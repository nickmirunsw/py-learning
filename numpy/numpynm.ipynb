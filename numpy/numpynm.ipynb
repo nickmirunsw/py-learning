{
  "nbformat": 4,
  "nbformat_minor": 0,
  "metadata": {
    "colab": {
      "provenance": [],
      "authorship_tag": "ABX9TyNg9//93wQUGQXcMC8LHobx"
    },
    "kernelspec": {
      "name": "python3",
      "display_name": "Python 3"
    },
    "language_info": {
      "name": "python"
    }
  },
  "cells": [
    {
      "cell_type": "code",
      "source": [
        "# # 1. Import NumPy\n",
        "# import numpy as np\n",
        "\n",
        "# # 2. Creating Arrays\n",
        "# np.array([1, 2, 3])  # 1D array\n",
        "# np.array([[1, 2], [3, 4]])  # 2D array\n",
        "# np.zeros((3, 3))  # Array of zeros\n",
        "# np.ones((3, 3))  # Array of ones\n",
        "# np.eye(3)  # Identity matrix\n",
        "# np.full((2, 2), 7)  # Array filled with a specific value\n",
        "# np.arange(0, 10, 2)  # Array with a range of values\n",
        "# np.linspace(0, 1, 5)  # Array with evenly spaced values\n",
        "# np.random.rand(3, 3)  # Array with random values (uniform)\n",
        "# np.random.randn(3, 3)  # Array with random values (normal distribution)\n",
        "# np.random.randint(0, 10, (3, 3))  # Random integers\n",
        "\n",
        "# # 3. Inspecting Arrays\n",
        "# arr = np.array([[1, 2, 3], [4, 5, 6]])\n",
        "# arr.shape  # Shape of the array\n",
        "# arr.ndim  # Number of dimensions\n",
        "# arr.size  # Number of elements\n",
        "# arr.dtype  # Data type of elements\n",
        "\n",
        "# # 4. Array Manipulation\n",
        "# arr.reshape(3, 2)  # Reshape the array\n",
        "# arr.flatten()  # Flatten the array to 1D\n",
        "# np.transpose(arr)  # Transpose the array\n",
        "# np.hstack((arr, arr))  # Horizontal stacking\n",
        "# np.vstack((arr, arr))  # Vertical stacking\n",
        "# np.split(arr, 2, axis=1)  # Split array along an axis\n",
        "\n",
        "# # 5. Indexing and Slicing\n",
        "# arr[1, 2]  # Access specific element\n",
        "# arr[:, 1]  # Access a column\n",
        "# arr[1, :]  # Access a row\n",
        "# arr[0:2, 1:3]  # Slice a subarray\n",
        "# arr[arr > 3]  # Conditional indexing\n",
        "\n",
        "# # 6. Mathematical Functions\n",
        "# np.add(arr, 10)  # Add scalar\n",
        "# np.subtract(arr, 5)  # Subtract scalar\n",
        "# np.multiply(arr, 2)  # Element-wise multiplication\n",
        "# np.divide(arr, 2)  # Element-wise division\n",
        "# np.power(arr, 2)  # Element-wise power\n",
        "# np.sqrt(arr)  # Element-wise square root\n",
        "# np.exp(arr)  # Element-wise exponential\n",
        "# np.log(arr)  # Element-wise natural log\n",
        "# np.abs(arr)  # Element-wise absolute value\n",
        "# np.round(arr, 2)  # Round values\n",
        "# np.sin(arr)  # Sine\n",
        "# np.cos(arr)  # Cosine\n",
        "# np.tan(arr)  # Tangent\n",
        "\n",
        "# # 7. Aggregate Functions\n",
        "# np.sum(arr)  # Sum of elements\n",
        "# np.mean(arr)  # Mean of elements\n",
        "# np.median(arr)  # Median of elements\n",
        "# np.std(arr)  # Standard deviation\n",
        "# np.var(arr)  # Variance\n",
        "# np.min(arr)  # Minimum value\n",
        "# np.max(arr)  # Maximum value\n",
        "# np.argmin(arr)  # Index of minimum value\n",
        "# np.argmax(arr)  # Index of maximum value\n",
        "\n",
        "# # 8. Linear Algebra Functions\n",
        "# A = np.array([[1, 2], [3, 4]])\n",
        "# B = np.array([[5, 6], [7, 8]])\n",
        "\n",
        "# np.dot(A, B)  # Matrix multiplication\n",
        "# A @ B  # Alternative for matrix multiplication\n",
        "# np.matmul(A, B)  # Matrix multiplication\n",
        "# np.cross(A, B)  # Cross product\n",
        "# np.linalg.det(A)  # Determinant of a matrix\n",
        "# np.linalg.inv(A)  # Inverse of a matrix\n",
        "# np.linalg.eig(A)  # Eigenvalues and eigenvectors\n",
        "# np.linalg.solve(A, np.array([1, 0]))  # Solve linear equations\n",
        "# np.linalg.norm(A)  # Norm of a matrix or vector\n",
        "\n",
        "# # 9. Matrix-Specific Functions\n",
        "# np.trace(A)  # Trace of a matrix (sum of diagonal elements)\n",
        "# np.diag(A)  # Extract diagonal elements\n",
        "# np.diagflat([1, 2, 3])  # Create diagonal matrix from a list\n",
        "# np.outer(np.array([1, 2]), np.array([3, 4]))  # Outer product\n",
        "# np.inner(np.array([1, 2]), np.array([3, 4]))  # Inner product\n",
        "\n",
        "# # 10. Random Sampling\n",
        "# np.random.seed(42)  # Set seed for reproducibility\n",
        "# np.random.choice([1, 2, 3], size=5, replace=True)  # Random choices\n",
        "\n",
        "# # 11. Broadcasting\n",
        "# arr + np.array([1, 2, 3])  # Add array to each row\n",
        "# arr * np.array([[1], [2]])  # Multiply each column by corresponding scalar\n",
        "\n",
        "# # 12. Special Functions\n",
        "# np.where(arr > 3, 1, 0)  # Conditional replacement\n",
        "# np.clip(arr, 0, 5)  # Clip values within a range\n",
        "# np.cumsum(arr)  # Cumulative sum\n",
        "# np.cumprod(arr)  # Cumulative product\n",
        "# np.unique(arr)  # Find unique elements\n",
        "# np.sort(arr, axis=0)  # Sort along an axis\n",
        "# np.argsort(arr)  # Indices of sorted elements\n",
        "\n",
        "# # 13. File I/O\n",
        "# np.save('array.npy', arr)  # Save array to file\n",
        "# np.load('array.npy')  # Load array from file\n",
        "# np.savetxt('array.txt', arr, delimiter=',')  # Save array to text file\n",
        "# np.loadtxt('array.txt', delimiter=',')  # Load array from text file"
      ],
      "metadata": {
        "id": "ouCDG7KmGA-w"
      },
      "execution_count": 1,
      "outputs": []
    },
    {
      "cell_type": "code",
      "execution_count": 2,
      "metadata": {
        "id": "7MW3xgY32o_4"
      },
      "outputs": [],
      "source": [
        "\n",
        "import numpy as np"
      ]
    },
    {
      "cell_type": "code",
      "source": [
        "arr1 = np.array([0, 1, 2, 3, 4, 5, 6, 7, 8, 9])\n",
        "arr1"
      ],
      "metadata": {
        "colab": {
          "base_uri": "https://localhost:8080/"
        },
        "id": "A8P4hEUG2sYU",
        "outputId": "1d7ee23c-fa51-49a3-eada-b137fc34cd80"
      },
      "execution_count": 3,
      "outputs": [
        {
          "output_type": "execute_result",
          "data": {
            "text/plain": [
              "array([0, 1, 2, 3, 4, 5, 6, 7, 8, 9])"
            ]
          },
          "metadata": {},
          "execution_count": 3
        }
      ]
    },
    {
      "cell_type": "code",
      "source": [
        "arr2 = np.random.randint(10, 50, size=(3, 3))\n",
        "arr2"
      ],
      "metadata": {
        "colab": {
          "base_uri": "https://localhost:8080/"
        },
        "id": "PrCKoMFu3oMk",
        "outputId": "d81cc78c-ea9f-4d3e-9005-5778c76334d8"
      },
      "execution_count": 4,
      "outputs": [
        {
          "output_type": "execute_result",
          "data": {
            "text/plain": [
              "array([[31, 17, 48],\n",
              "       [17, 22, 45],\n",
              "       [40, 28, 19]])"
            ]
          },
          "metadata": {},
          "execution_count": 4
        }
      ]
    },
    {
      "cell_type": "code",
      "source": [
        "arr3 = np.arange(1, 101, 10)\n",
        "arr3"
      ],
      "metadata": {
        "colab": {
          "base_uri": "https://localhost:8080/"
        },
        "id": "Wv_Sz06g3z3j",
        "outputId": "a5e139b9-c442-4c4f-d006-7d00c372c85a"
      },
      "execution_count": 5,
      "outputs": [
        {
          "output_type": "execute_result",
          "data": {
            "text/plain": [
              "array([ 1, 11, 21, 31, 41, 51, 61, 71, 81, 91])"
            ]
          },
          "metadata": {},
          "execution_count": 5
        }
      ]
    },
    {
      "cell_type": "code",
      "source": [
        "print(arr1.shape)\n",
        "print(arr2.shape)\n",
        "print(arr3.shape)"
      ],
      "metadata": {
        "colab": {
          "base_uri": "https://localhost:8080/"
        },
        "id": "hjvI2Fl24Fr1",
        "outputId": "6f596f10-b8a6-4040-90b9-1d901adc8f76"
      },
      "execution_count": 6,
      "outputs": [
        {
          "output_type": "stream",
          "name": "stdout",
          "text": [
            "(10,)\n",
            "(3, 3)\n",
            "(10,)\n"
          ]
        }
      ]
    },
    {
      "cell_type": "code",
      "source": [
        "print(arr1.dtype)\n",
        "print(arr2.dtype)\n",
        "print(arr3.dtype)"
      ],
      "metadata": {
        "colab": {
          "base_uri": "https://localhost:8080/"
        },
        "id": "QSo_MxdT4nt7",
        "outputId": "5de39048-deba-49b9-9bc1-17c7a1e8ac19"
      },
      "execution_count": 7,
      "outputs": [
        {
          "output_type": "stream",
          "name": "stdout",
          "text": [
            "int64\n",
            "int64\n",
            "int64\n"
          ]
        }
      ]
    },
    {
      "cell_type": "code",
      "source": [
        "print(arr1.size)\n",
        "print(arr2.size)\n",
        "print(arr3.size)"
      ],
      "metadata": {
        "colab": {
          "base_uri": "https://localhost:8080/"
        },
        "id": "S5a28eEN41OO",
        "outputId": "45fcc91a-62e4-4fda-d124-1ec17877fbdf"
      },
      "execution_count": 8,
      "outputs": [
        {
          "output_type": "stream",
          "name": "stdout",
          "text": [
            "10\n",
            "9\n",
            "10\n"
          ]
        }
      ]
    },
    {
      "cell_type": "code",
      "source": [
        "np.reshape(arr1, (2, 5))"
      ],
      "metadata": {
        "colab": {
          "base_uri": "https://localhost:8080/"
        },
        "id": "kE3Y4CRz47r8",
        "outputId": "2d2261f8-08f8-4a90-cf15-18142301ea40"
      },
      "execution_count": 9,
      "outputs": [
        {
          "output_type": "execute_result",
          "data": {
            "text/plain": [
              "array([[0, 1, 2, 3, 4],\n",
              "       [5, 6, 7, 8, 9]])"
            ]
          },
          "metadata": {},
          "execution_count": 9
        }
      ]
    },
    {
      "cell_type": "code",
      "source": [
        "np.eye(4)"
      ],
      "metadata": {
        "colab": {
          "base_uri": "https://localhost:8080/"
        },
        "id": "tjPeT3Dc7zIp",
        "outputId": "90efd1e8-ac6f-4ed2-83ef-4027e691b973"
      },
      "execution_count": 10,
      "outputs": [
        {
          "output_type": "execute_result",
          "data": {
            "text/plain": [
              "array([[1., 0., 0., 0.],\n",
              "       [0., 1., 0., 0.],\n",
              "       [0., 0., 1., 0.],\n",
              "       [0., 0., 0., 1.]])"
            ]
          },
          "metadata": {},
          "execution_count": 10
        }
      ]
    },
    {
      "cell_type": "code",
      "source": [
        "np.zeros((2, 3, 4))"
      ],
      "metadata": {
        "colab": {
          "base_uri": "https://localhost:8080/"
        },
        "id": "MBVef1bg79wM",
        "outputId": "bbd8450f-48e3-48d9-c09c-69e489ea05ac"
      },
      "execution_count": 11,
      "outputs": [
        {
          "output_type": "execute_result",
          "data": {
            "text/plain": [
              "array([[[0., 0., 0., 0.],\n",
              "        [0., 0., 0., 0.],\n",
              "        [0., 0., 0., 0.]],\n",
              "\n",
              "       [[0., 0., 0., 0.],\n",
              "        [0., 0., 0., 0.],\n",
              "        [0., 0., 0., 0.]]])"
            ]
          },
          "metadata": {},
          "execution_count": 11
        }
      ]
    },
    {
      "cell_type": "code",
      "source": [
        "arr4 = np.ones((5, 2), dtype=int)\n",
        "print(arr4)\n",
        "print(arr4.dtype)"
      ],
      "metadata": {
        "colab": {
          "base_uri": "https://localhost:8080/"
        },
        "id": "iofrVomo8Ue9",
        "outputId": "5ce77b37-5cc8-44dd-9793-cc362c16742c"
      },
      "execution_count": 12,
      "outputs": [
        {
          "output_type": "stream",
          "name": "stdout",
          "text": [
            "[[1 1]\n",
            " [1 1]\n",
            " [1 1]\n",
            " [1 1]\n",
            " [1 1]]\n",
            "int64\n"
          ]
        }
      ]
    },
    {
      "cell_type": "code",
      "source": [
        "arr5 = np.zeros((8, 8))\n",
        "arr5"
      ],
      "metadata": {
        "colab": {
          "base_uri": "https://localhost:8080/"
        },
        "id": "etuuAuqA85T7",
        "outputId": "7297a2f3-c527-4fa2-a538-a4cdb2075c6a"
      },
      "execution_count": 13,
      "outputs": [
        {
          "output_type": "execute_result",
          "data": {
            "text/plain": [
              "array([[0., 0., 0., 0., 0., 0., 0., 0.],\n",
              "       [0., 0., 0., 0., 0., 0., 0., 0.],\n",
              "       [0., 0., 0., 0., 0., 0., 0., 0.],\n",
              "       [0., 0., 0., 0., 0., 0., 0., 0.],\n",
              "       [0., 0., 0., 0., 0., 0., 0., 0.],\n",
              "       [0., 0., 0., 0., 0., 0., 0., 0.],\n",
              "       [0., 0., 0., 0., 0., 0., 0., 0.],\n",
              "       [0., 0., 0., 0., 0., 0., 0., 0.]])"
            ]
          },
          "metadata": {},
          "execution_count": 13
        }
      ]
    },
    {
      "cell_type": "code",
      "source": [
        "arr5[0:8:2, 0:8:2] = 1\n",
        "arr5[1:8:2, 1:8:2] = 1"
      ],
      "metadata": {
        "id": "V6eLfnHNB5Ei"
      },
      "execution_count": 14,
      "outputs": []
    },
    {
      "cell_type": "code",
      "source": [
        "arr5"
      ],
      "metadata": {
        "colab": {
          "base_uri": "https://localhost:8080/"
        },
        "id": "NLuMiuppCO0x",
        "outputId": "63a65955-536b-4470-e7cd-2fc71c6122ce"
      },
      "execution_count": 15,
      "outputs": [
        {
          "output_type": "execute_result",
          "data": {
            "text/plain": [
              "array([[1., 0., 1., 0., 1., 0., 1., 0.],\n",
              "       [0., 1., 0., 1., 0., 1., 0., 1.],\n",
              "       [1., 0., 1., 0., 1., 0., 1., 0.],\n",
              "       [0., 1., 0., 1., 0., 1., 0., 1.],\n",
              "       [1., 0., 1., 0., 1., 0., 1., 0.],\n",
              "       [0., 1., 0., 1., 0., 1., 0., 1.],\n",
              "       [1., 0., 1., 0., 1., 0., 1., 0.],\n",
              "       [0., 1., 0., 1., 0., 1., 0., 1.]])"
            ]
          },
          "metadata": {},
          "execution_count": 15
        }
      ]
    },
    {
      "cell_type": "code",
      "source": [
        "arr6 = np.array([1, 2, 3, 4, 5])\n",
        "arr7 = np.array([5, 4, 3, 2, 1])"
      ],
      "metadata": {
        "id": "KqbXrrZtC0jY"
      },
      "execution_count": 16,
      "outputs": []
    },
    {
      "cell_type": "code",
      "source": [
        "np.add(arr6, arr7)"
      ],
      "metadata": {
        "colab": {
          "base_uri": "https://localhost:8080/"
        },
        "id": "x3Mgik4qENU7",
        "outputId": "91ecc9c3-0520-4c35-d9fd-6558f60c8a34"
      },
      "execution_count": 17,
      "outputs": [
        {
          "output_type": "execute_result",
          "data": {
            "text/plain": [
              "array([6, 6, 6, 6, 6])"
            ]
          },
          "metadata": {},
          "execution_count": 17
        }
      ]
    },
    {
      "cell_type": "code",
      "source": [
        "np.subtract(arr6, arr7)"
      ],
      "metadata": {
        "colab": {
          "base_uri": "https://localhost:8080/"
        },
        "id": "u3ugAAJ2EUaA",
        "outputId": "15ffc9fc-2e94-4356-9741-09cd426dbf30"
      },
      "execution_count": 18,
      "outputs": [
        {
          "output_type": "execute_result",
          "data": {
            "text/plain": [
              "array([-4, -2,  0,  2,  4])"
            ]
          },
          "metadata": {},
          "execution_count": 18
        }
      ]
    },
    {
      "cell_type": "code",
      "source": [
        "np.multiply(arr6, arr7)"
      ],
      "metadata": {
        "colab": {
          "base_uri": "https://localhost:8080/"
        },
        "id": "NlV1jgMhEbKw",
        "outputId": "2001db0c-373f-4071-847a-b522b19039fb"
      },
      "execution_count": 19,
      "outputs": [
        {
          "output_type": "execute_result",
          "data": {
            "text/plain": [
              "array([5, 8, 9, 8, 5])"
            ]
          },
          "metadata": {},
          "execution_count": 19
        }
      ]
    },
    {
      "cell_type": "code",
      "source": [
        "np.divide(arr6, arr7)"
      ],
      "metadata": {
        "colab": {
          "base_uri": "https://localhost:8080/"
        },
        "id": "k5YTMnocEhoz",
        "outputId": "d9e44dd0-f63c-4e0f-d0e9-fccd3771ec32"
      },
      "execution_count": 20,
      "outputs": [
        {
          "output_type": "execute_result",
          "data": {
            "text/plain": [
              "array([0.2, 0.5, 1. , 2. , 5. ])"
            ]
          },
          "metadata": {},
          "execution_count": 20
        }
      ]
    },
    {
      "cell_type": "code",
      "source": [
        "np.power(arr6, arr7)"
      ],
      "metadata": {
        "colab": {
          "base_uri": "https://localhost:8080/"
        },
        "id": "MviMrrwZElBf",
        "outputId": "67305843-76aa-4877-cc21-f432fac46280"
      },
      "execution_count": 21,
      "outputs": [
        {
          "output_type": "execute_result",
          "data": {
            "text/plain": [
              "array([ 1, 16, 27, 16,  5])"
            ]
          },
          "metadata": {},
          "execution_count": 21
        }
      ]
    },
    {
      "cell_type": "code",
      "source": [
        "print(np.sqrt(arr6))\n",
        "print(np.exp(arr6))\n",
        "print(np.log(arr6))\n",
        "print(np.sin(arr6))"
      ],
      "metadata": {
        "colab": {
          "base_uri": "https://localhost:8080/"
        },
        "id": "5iUE58wvEvlc",
        "outputId": "b5fa6979-6802-4e23-c202-5c45930088e6"
      },
      "execution_count": 22,
      "outputs": [
        {
          "output_type": "stream",
          "name": "stdout",
          "text": [
            "[1.         1.41421356 1.73205081 2.         2.23606798]\n",
            "[  2.71828183   7.3890561   20.08553692  54.59815003 148.4131591 ]\n",
            "[0.         0.69314718 1.09861229 1.38629436 1.60943791]\n",
            "[ 0.84147098  0.90929743  0.14112001 -0.7568025  -0.95892427]\n"
          ]
        }
      ]
    },
    {
      "cell_type": "code",
      "source": [
        "temp = np.sin(arr6)\n",
        "print(np.round(temp, decimals=2))"
      ],
      "metadata": {
        "colab": {
          "base_uri": "https://localhost:8080/"
        },
        "id": "rB8sHTCJFKA4",
        "outputId": "2aac54fb-8394-43f9-866a-1fbf628a3d10"
      },
      "execution_count": 23,
      "outputs": [
        {
          "output_type": "stream",
          "name": "stdout",
          "text": [
            "[ 0.84  0.91  0.14 -0.76 -0.96]\n"
          ]
        }
      ]
    },
    {
      "cell_type": "code",
      "source": [
        "arr8 = np.array([[1], [2], [3]])\n",
        "arr8"
      ],
      "metadata": {
        "id": "l9CGNjaKFNDP",
        "colab": {
          "base_uri": "https://localhost:8080/"
        },
        "outputId": "9d66660a-09a2-4687-977d-3f69737f6b26"
      },
      "execution_count": 24,
      "outputs": [
        {
          "output_type": "execute_result",
          "data": {
            "text/plain": [
              "array([[1],\n",
              "       [2],\n",
              "       [3]])"
            ]
          },
          "metadata": {},
          "execution_count": 24
        }
      ]
    },
    {
      "cell_type": "code",
      "source": [
        "arr9 = np.array([1, 2, 3])\n",
        "arr9"
      ],
      "metadata": {
        "id": "TYhUTZM-FNBG",
        "colab": {
          "base_uri": "https://localhost:8080/"
        },
        "outputId": "414acef9-3d2c-4b03-e97a-845e070f4153"
      },
      "execution_count": 25,
      "outputs": [
        {
          "output_type": "execute_result",
          "data": {
            "text/plain": [
              "array([1, 2, 3])"
            ]
          },
          "metadata": {},
          "execution_count": 25
        }
      ]
    },
    {
      "cell_type": "code",
      "source": [
        "np.add(arr8, arr9)"
      ],
      "metadata": {
        "colab": {
          "base_uri": "https://localhost:8080/"
        },
        "id": "HFGgW29w_bnt",
        "outputId": "0a88fd50-26ba-4a52-e44a-267e35d7790a"
      },
      "execution_count": 26,
      "outputs": [
        {
          "output_type": "execute_result",
          "data": {
            "text/plain": [
              "array([[2, 3, 4],\n",
              "       [3, 4, 5],\n",
              "       [4, 5, 6]])"
            ]
          },
          "metadata": {},
          "execution_count": 26
        }
      ]
    },
    {
      "cell_type": "code",
      "source": [
        "np.multiply(arr8, 10)"
      ],
      "metadata": {
        "id": "iR90X_wGFM-J",
        "colab": {
          "base_uri": "https://localhost:8080/"
        },
        "outputId": "b96de726-8bc1-45e0-898e-1a5fc6aed294"
      },
      "execution_count": 27,
      "outputs": [
        {
          "output_type": "execute_result",
          "data": {
            "text/plain": [
              "array([[10],\n",
              "       [20],\n",
              "       [30]])"
            ]
          },
          "metadata": {},
          "execution_count": 27
        }
      ]
    },
    {
      "cell_type": "code",
      "source": [
        "arr10 = np.random.randint(1,10,size=(5, 5))\n",
        "arr10"
      ],
      "metadata": {
        "id": "LH27MmRgFM2n",
        "colab": {
          "base_uri": "https://localhost:8080/"
        },
        "outputId": "e90e93eb-6584-456f-8d1e-889e24c00c5f"
      },
      "execution_count": 28,
      "outputs": [
        {
          "output_type": "execute_result",
          "data": {
            "text/plain": [
              "array([[4, 9, 5, 4, 2],\n",
              "       [3, 5, 3, 3, 7],\n",
              "       [8, 7, 6, 2, 2],\n",
              "       [3, 5, 2, 9, 1],\n",
              "       [8, 2, 1, 3, 6]])"
            ]
          },
          "metadata": {},
          "execution_count": 28
        }
      ]
    },
    {
      "cell_type": "code",
      "source": [
        "temp_array = []\n",
        "for i in np.nditer(arr10):\n",
        "  if i > 5:\n",
        "    i = 1\n",
        "  elif i<= 5:\n",
        "    i = 0\n",
        "  temp_array.append(i)\n",
        "\n",
        "arr11 = np.array(temp_array)\n",
        "np.reshape(arr11, (5, 5))"
      ],
      "metadata": {
        "colab": {
          "base_uri": "https://localhost:8080/"
        },
        "id": "rqvoYKq0AJNB",
        "outputId": "a092e4cb-d5ef-4a00-acb9-284f3f9e4870"
      },
      "execution_count": 29,
      "outputs": [
        {
          "output_type": "execute_result",
          "data": {
            "text/plain": [
              "array([[0, 1, 0, 0, 0],\n",
              "       [0, 0, 0, 0, 1],\n",
              "       [1, 1, 1, 0, 0],\n",
              "       [0, 0, 0, 1, 0],\n",
              "       [1, 0, 0, 0, 1]])"
            ]
          },
          "metadata": {},
          "execution_count": 29
        }
      ]
    },
    {
      "cell_type": "code",
      "source": [
        "arr10 = np.random.randint(1, 10, size=(5, 5))\n",
        "arr11 = np.where(arr10 > 5, 1, 0)\n",
        "arr11"
      ],
      "metadata": {
        "colab": {
          "base_uri": "https://localhost:8080/"
        },
        "id": "QQ7knFxhArWL",
        "outputId": "5b8aa254-3a50-4175-90eb-33f31bdab24a"
      },
      "execution_count": 30,
      "outputs": [
        {
          "output_type": "execute_result",
          "data": {
            "text/plain": [
              "array([[0, 0, 0, 0, 0],\n",
              "       [0, 0, 1, 0, 0],\n",
              "       [0, 0, 1, 0, 0],\n",
              "       [0, 1, 0, 1, 1],\n",
              "       [0, 0, 0, 0, 1]])"
            ]
          },
          "metadata": {},
          "execution_count": 30
        }
      ]
    },
    {
      "cell_type": "code",
      "source": [
        "arr12 = np.array([[10, 20, 30], [40, 50, 60], [70, 80, 90]])\n",
        "arr12"
      ],
      "metadata": {
        "colab": {
          "base_uri": "https://localhost:8080/"
        },
        "id": "dalKArP5DanE",
        "outputId": "2bae10dc-bb90-461d-8b95-4c4fc639d93d"
      },
      "execution_count": 31,
      "outputs": [
        {
          "output_type": "execute_result",
          "data": {
            "text/plain": [
              "array([[10, 20, 30],\n",
              "       [40, 50, 60],\n",
              "       [70, 80, 90]])"
            ]
          },
          "metadata": {},
          "execution_count": 31
        }
      ]
    },
    {
      "cell_type": "code",
      "source": [
        "print(arr12[0,1])\n",
        "print(arr12[2,2])\n",
        "print(arr12[0])\n",
        "print(arr12[:, 1])\n",
        "print(arr12[0:2, 1:3])"
      ],
      "metadata": {
        "colab": {
          "base_uri": "https://localhost:8080/"
        },
        "id": "-9oQCwhwG1xJ",
        "outputId": "23f4b68f-0dc9-4a33-88f9-17df084a4c42"
      },
      "execution_count": 32,
      "outputs": [
        {
          "output_type": "stream",
          "name": "stdout",
          "text": [
            "20\n",
            "90\n",
            "[10 20 30]\n",
            "[20 50 80]\n",
            "[[20 30]\n",
            " [50 60]]\n"
          ]
        }
      ]
    },
    {
      "cell_type": "code",
      "source": [
        "arr13 = np.array([5, 10, 15, 20, 25])\n",
        "arr13"
      ],
      "metadata": {
        "colab": {
          "base_uri": "https://localhost:8080/"
        },
        "id": "eXbioiubHcbN",
        "outputId": "bbc72377-b059-4506-d18f-8c4392250d63"
      },
      "execution_count": 33,
      "outputs": [
        {
          "output_type": "execute_result",
          "data": {
            "text/plain": [
              "array([ 5, 10, 15, 20, 25])"
            ]
          },
          "metadata": {},
          "execution_count": 33
        }
      ]
    },
    {
      "cell_type": "code",
      "source": [
        "np.where(arr13>12)\n",
        "filter = arr13>12\n",
        "arr13[filter]"
      ],
      "metadata": {
        "colab": {
          "base_uri": "https://localhost:8080/"
        },
        "id": "prLorDvrI63n",
        "outputId": "14ec0e4c-c91a-4faa-86a8-e157bc0df2e6"
      },
      "execution_count": 34,
      "outputs": [
        {
          "output_type": "execute_result",
          "data": {
            "text/plain": [
              "array([15, 20, 25])"
            ]
          },
          "metadata": {},
          "execution_count": 34
        }
      ]
    },
    {
      "cell_type": "code",
      "source": [
        "filter_1 = [1, 3, 4]\n",
        "arr13[filter_1]"
      ],
      "metadata": {
        "id": "9MAzDPX8JRpt",
        "colab": {
          "base_uri": "https://localhost:8080/"
        },
        "outputId": "ae053ff3-a2f4-4993-de86-ddacf78f07dd"
      },
      "execution_count": 35,
      "outputs": [
        {
          "output_type": "execute_result",
          "data": {
            "text/plain": [
              "array([10, 20, 25])"
            ]
          },
          "metadata": {},
          "execution_count": 35
        }
      ]
    },
    {
      "cell_type": "code",
      "source": [
        "arr13[::-1]"
      ],
      "metadata": {
        "colab": {
          "base_uri": "https://localhost:8080/"
        },
        "id": "bjsx2sN0CDER",
        "outputId": "ad966d2f-9499-4732-8500-2748d73f14ea"
      },
      "execution_count": 36,
      "outputs": [
        {
          "output_type": "execute_result",
          "data": {
            "text/plain": [
              "array([25, 20, 15, 10,  5])"
            ]
          },
          "metadata": {},
          "execution_count": 36
        }
      ]
    },
    {
      "cell_type": "code",
      "source": [
        "arr14 = np.random.randint(1, 100, size=(5,5))"
      ],
      "metadata": {
        "id": "kkmntiCeCKfv"
      },
      "execution_count": 37,
      "outputs": []
    },
    {
      "cell_type": "code",
      "source": [
        "print(arr14)\n",
        "arr14 = np.where(arr14 > 50, np.multiply(arr14, -1), arr14)\n"
      ],
      "metadata": {
        "colab": {
          "base_uri": "https://localhost:8080/"
        },
        "id": "ENkO2EPZCa6c",
        "outputId": "ed0cb274-8c66-4214-a840-51a027bc2d83"
      },
      "execution_count": 38,
      "outputs": [
        {
          "output_type": "stream",
          "name": "stdout",
          "text": [
            "[[ 6 84 27  4 64]\n",
            " [58 87 20 59 42]\n",
            " [30 98 56 78 77]\n",
            " [46 34 99 26 64]\n",
            " [41 23 51 39 20]]\n"
          ]
        }
      ]
    },
    {
      "cell_type": "code",
      "source": [
        "arr15 = np.array([1, 2, 3, 4, 5, 6, 7, 8 ,9, 10, 11, 12])\n",
        "print(np.reshape(arr15, (3, 4)))\n",
        "print(np.resize(arr15, (2, 6)))"
      ],
      "metadata": {
        "colab": {
          "base_uri": "https://localhost:8080/"
        },
        "id": "2eF1Kxt8DY9M",
        "outputId": "b244682f-0bbd-4330-aee2-9f9940796d91"
      },
      "execution_count": 39,
      "outputs": [
        {
          "output_type": "stream",
          "name": "stdout",
          "text": [
            "[[ 1  2  3  4]\n",
            " [ 5  6  7  8]\n",
            " [ 9 10 11 12]]\n",
            "[[ 1  2  3  4  5  6]\n",
            " [ 7  8  9 10 11 12]]\n"
          ]
        }
      ]
    },
    {
      "cell_type": "code",
      "source": [
        "arr16 = np.array([[1, 2], [3, 4]])\n",
        "arr17 = np.array([[5, 6], [7, 8]])\n",
        "\n",
        "arr18 = np.concatenate((arr16, arr17))\n",
        "print(arr18)\n",
        "\n",
        "print(np.split(arr18, 2))\n"
      ],
      "metadata": {
        "colab": {
          "base_uri": "https://localhost:8080/"
        },
        "id": "RUm1gy44GkFt",
        "outputId": "a08b2dc1-34df-4011-a25c-1156d695e5f0"
      },
      "execution_count": 40,
      "outputs": [
        {
          "output_type": "stream",
          "name": "stdout",
          "text": [
            "[[1 2]\n",
            " [3 4]\n",
            " [5 6]\n",
            " [7 8]]\n",
            "[array([[1, 2],\n",
            "       [3, 4]]), array([[5, 6],\n",
            "       [7, 8]])]\n"
          ]
        }
      ]
    },
    {
      "cell_type": "code",
      "source": [
        "arr19 = np.random.randint(1, 10, size=(2, 3, 4))\n",
        "print(arr19)\n",
        "print(arr19.shape)\n",
        "arr20 = np.transpose(arr19, (1, 0, 2))\n",
        "print(arr20)\n",
        "print(arr20.shape)\n",
        "arr21 = np.swapaxes(arr19, 0, 2)\n",
        "print(arr21)\n",
        "print(arr21.shape)"
      ],
      "metadata": {
        "id": "z3YbsN6mHJSD",
        "colab": {
          "base_uri": "https://localhost:8080/"
        },
        "outputId": "2a75aefd-07cb-4278-fce5-499b82a13b89"
      },
      "execution_count": 41,
      "outputs": [
        {
          "output_type": "stream",
          "name": "stdout",
          "text": [
            "[[[2 7 3 7]\n",
            "  [9 9 2 5]\n",
            "  [5 1 3 6]]\n",
            "\n",
            " [[8 9 8 2]\n",
            "  [7 8 4 6]\n",
            "  [5 5 1 5]]]\n",
            "(2, 3, 4)\n",
            "[[[2 7 3 7]\n",
            "  [8 9 8 2]]\n",
            "\n",
            " [[9 9 2 5]\n",
            "  [7 8 4 6]]\n",
            "\n",
            " [[5 1 3 6]\n",
            "  [5 5 1 5]]]\n",
            "(3, 2, 4)\n",
            "[[[2 8]\n",
            "  [9 7]\n",
            "  [5 5]]\n",
            "\n",
            " [[7 9]\n",
            "  [9 8]\n",
            "  [1 5]]\n",
            "\n",
            " [[3 8]\n",
            "  [2 4]\n",
            "  [3 1]]\n",
            "\n",
            " [[7 2]\n",
            "  [5 6]\n",
            "  [6 5]]]\n",
            "(4, 3, 2)\n"
          ]
        }
      ]
    },
    {
      "cell_type": "code",
      "source": [
        "arr22 = np.random.randint(1, 10, size=(3,3))\n",
        "print(arr22)\n",
        "arr22_temp = np.square(arr22[:,1:2])\n",
        "arr22[:,1:2] = arr22_temp\n",
        "print(arr22)\n",
        "print(arr22.reshape(-1))"
      ],
      "metadata": {
        "colab": {
          "base_uri": "https://localhost:8080/"
        },
        "id": "nZ3aPS_BKJQz",
        "outputId": "9314420e-c3df-4962-e805-3fa5b95040f3"
      },
      "execution_count": 42,
      "outputs": [
        {
          "output_type": "stream",
          "name": "stdout",
          "text": [
            "[[5 1 5]\n",
            " [9 3 2]\n",
            " [6 6 6]]\n",
            "[[ 5  1  5]\n",
            " [ 9  9  2]\n",
            " [ 6 36  6]]\n",
            "[ 5  1  5  9  9  2  6 36  6]\n"
          ]
        }
      ]
    },
    {
      "cell_type": "code",
      "source": [
        "arr23 = np.random.randint(1, 50, size=(4, 5))\n",
        "print(arr23)\n",
        "print(np.sum(arr23))\n",
        "print(np.mean(arr23))\n",
        "print(np.max(arr23))\n",
        "print(np.min(arr23))"
      ],
      "metadata": {
        "colab": {
          "base_uri": "https://localhost:8080/"
        },
        "id": "YZ6NldYKO7rN",
        "outputId": "ff0015c2-e10b-49b3-e0e6-3b956e117ae3"
      },
      "execution_count": 43,
      "outputs": [
        {
          "output_type": "stream",
          "name": "stdout",
          "text": [
            "[[31 24 48 38 26]\n",
            " [24 38 18 30 41]\n",
            " [17  9 28 13 49]\n",
            " [45 40 45 20 14]]\n",
            "598\n",
            "29.9\n",
            "49\n",
            "9\n"
          ]
        }
      ]
    },
    {
      "cell_type": "code",
      "source": [
        "print(np.cumsum(arr23, axis=0))\n",
        "print(np.cumsum(arr23, axis=1))"
      ],
      "metadata": {
        "colab": {
          "base_uri": "https://localhost:8080/"
        },
        "id": "jgRvv4jeR79X",
        "outputId": "4a513896-07f6-4e68-c384-68fa23d11ecf"
      },
      "execution_count": 44,
      "outputs": [
        {
          "output_type": "stream",
          "name": "stdout",
          "text": [
            "[[ 31  24  48  38  26]\n",
            " [ 55  62  66  68  67]\n",
            " [ 72  71  94  81 116]\n",
            " [117 111 139 101 130]]\n",
            "[[ 31  55 103 141 167]\n",
            " [ 24  62  80 110 151]\n",
            " [ 17  26  54  67 116]\n",
            " [ 45  85 130 150 164]]\n"
          ]
        }
      ]
    },
    {
      "cell_type": "code",
      "source": [
        "print(np.std(arr23))\n",
        "print(np.var(arr23))\n",
        "print(np.argmax(arr23))"
      ],
      "metadata": {
        "colab": {
          "base_uri": "https://localhost:8080/"
        },
        "id": "83rtYZkPSwqY",
        "outputId": "3eca58ad-f0c2-49fa-f287-d86e97dff35f"
      },
      "execution_count": 45,
      "outputs": [
        {
          "output_type": "stream",
          "name": "stdout",
          "text": [
            "12.197950647547318\n",
            "148.79000000000002\n",
            "14\n"
          ]
        }
      ]
    },
    {
      "cell_type": "code",
      "source": [
        "arr24 = np.random.randint(10, 100, size=(6, 6))\n",
        "print(arr24)\n",
        "\n"
      ],
      "metadata": {
        "colab": {
          "base_uri": "https://localhost:8080/"
        },
        "id": "y7_DXlBmT4Rh",
        "outputId": "3f422718-51b7-4832-e405-3ae19c4a8d9f"
      },
      "execution_count": 46,
      "outputs": [
        {
          "output_type": "stream",
          "name": "stdout",
          "text": [
            "[[77 18 67 19 44 24]\n",
            " [68 97 46 23 37 81]\n",
            " [18 77 62 49 58 45]\n",
            " [14 90 51 57 30 32]\n",
            " [46 52 83 18 51 32]\n",
            " [83 63 71 53 76 13]]\n"
          ]
        }
      ]
    },
    {
      "cell_type": "code",
      "source": [
        "arr25 = np.cumsum(arr24, axis=1)\n",
        "np.where(arr25 > 300, 300, arr25)"
      ],
      "metadata": {
        "colab": {
          "base_uri": "https://localhost:8080/"
        },
        "id": "d94J7iSgUvGT",
        "outputId": "98fba41b-0c10-4bfe-93f2-6fd07e87d57b"
      },
      "execution_count": 47,
      "outputs": [
        {
          "output_type": "execute_result",
          "data": {
            "text/plain": [
              "array([[ 77,  95, 162, 181, 225, 249],\n",
              "       [ 68, 165, 211, 234, 271, 300],\n",
              "       [ 18,  95, 157, 206, 264, 300],\n",
              "       [ 14, 104, 155, 212, 242, 274],\n",
              "       [ 46,  98, 181, 199, 250, 282],\n",
              "       [ 83, 146, 217, 270, 300, 300]])"
            ]
          },
          "metadata": {},
          "execution_count": 47
        }
      ]
    },
    {
      "cell_type": "code",
      "source": [
        "arr26 = np.array([1, 2, 3])\n",
        "arr27 = np.array([4, 5, 6])\n",
        "\n",
        "np.concatenate((arr26, arr27))"
      ],
      "metadata": {
        "id": "67uIpnhFU_V1",
        "colab": {
          "base_uri": "https://localhost:8080/"
        },
        "outputId": "1262dd88-7f7a-4dec-ba93-57e334052000"
      },
      "execution_count": 48,
      "outputs": [
        {
          "output_type": "execute_result",
          "data": {
            "text/plain": [
              "array([1, 2, 3, 4, 5, 6])"
            ]
          },
          "metadata": {},
          "execution_count": 48
        }
      ]
    },
    {
      "cell_type": "code",
      "source": [
        "arr28 = np.array([[1, 2], [3, 4]])\n",
        "arr29 = np.array([[5, 6]])\n",
        "\n",
        "print(arr28)\n",
        "print(arr28.shape)\n",
        "print(arr29)\n",
        "print(arr29.shape)\n",
        "print(\"\")\n",
        "\n",
        "print(np.concatenate((arr28, arr29.reshape(2, 1)), axis=1))\n",
        "print(\"\")\n",
        "print(\"\")\n",
        "print(np.concatenate((arr28, arr29), axis=0))"
      ],
      "metadata": {
        "colab": {
          "base_uri": "https://localhost:8080/"
        },
        "id": "rWnBTDavMffx",
        "outputId": "ed901947-1ef9-48d0-f272-769ce356e219"
      },
      "execution_count": 49,
      "outputs": [
        {
          "output_type": "stream",
          "name": "stdout",
          "text": [
            "[[1 2]\n",
            " [3 4]]\n",
            "(2, 2)\n",
            "[[5 6]]\n",
            "(1, 2)\n",
            "\n",
            "[[1 2 5]\n",
            " [3 4 6]]\n",
            "\n",
            "\n",
            "[[1 2]\n",
            " [3 4]\n",
            " [5 6]]\n"
          ]
        }
      ]
    },
    {
      "cell_type": "code",
      "source": [
        "print(np.vstack((arr28, arr29)))\n",
        "print(np.hstack((arr28, arr29.reshape(2, 1))))"
      ],
      "metadata": {
        "colab": {
          "base_uri": "https://localhost:8080/"
        },
        "id": "6m4cPyMtNCor",
        "outputId": "c13307fa-3231-4de8-df0b-ec9548edc2f1"
      },
      "execution_count": 50,
      "outputs": [
        {
          "output_type": "stream",
          "name": "stdout",
          "text": [
            "[[1 2]\n",
            " [3 4]\n",
            " [5 6]]\n",
            "[[1 2 5]\n",
            " [3 4 6]]\n"
          ]
        }
      ]
    },
    {
      "cell_type": "code",
      "source": [
        "arr30 = np.array([1, 2, 3, 4, 5, 6, 7, 8, 9, 10])\n",
        "print(np.split(arr30, 2))"
      ],
      "metadata": {
        "colab": {
          "base_uri": "https://localhost:8080/"
        },
        "id": "UMDpwp29PE7m",
        "outputId": "1924cfc2-fae8-4aab-965f-f34f03ac76fb"
      },
      "execution_count": 51,
      "outputs": [
        {
          "output_type": "stream",
          "name": "stdout",
          "text": [
            "[array([1, 2, 3, 4, 5]), array([ 6,  7,  8,  9, 10])]\n"
          ]
        }
      ]
    },
    {
      "cell_type": "code",
      "source": [
        "print(np.split(arr30, [4, 8]))"
      ],
      "metadata": {
        "colab": {
          "base_uri": "https://localhost:8080/"
        },
        "id": "TUdOaDOuR0Q6",
        "outputId": "7078725e-be2e-411e-8920-8c18236569f8"
      },
      "execution_count": 52,
      "outputs": [
        {
          "output_type": "stream",
          "name": "stdout",
          "text": [
            "[array([1, 2, 3, 4]), array([5, 6, 7, 8]), array([ 9, 10])]\n"
          ]
        }
      ]
    },
    {
      "cell_type": "code",
      "source": [
        "arr31 = np.random.randint(1, 20, size=(2, 3, 3))\n",
        "arr32, arr33 = np.array_split(arr31, 2, axis=0)\n",
        "\n",
        "print(arr31)\n",
        "print(\"\")\n",
        "print(\"===============\")\n",
        "print(arr32)\n",
        "print(\"===============\")\n",
        "print(arr32.shape)\n",
        "print(\"\")\n",
        "print(\"===============\")\n",
        "print(arr33)\n",
        "print(\"===============\")\n",
        "print(arr33.shape)\n",
        "\n"
      ],
      "metadata": {
        "colab": {
          "base_uri": "https://localhost:8080/"
        },
        "id": "xzdWSHEXR9M6",
        "outputId": "095b9ea7-e17f-4ce7-932f-174079834f14"
      },
      "execution_count": 53,
      "outputs": [
        {
          "output_type": "stream",
          "name": "stdout",
          "text": [
            "[[[14 19  5]\n",
            "  [19 14 13]\n",
            "  [10 18  7]]\n",
            "\n",
            " [[10 14 10]\n",
            "  [ 6  2  4]\n",
            "  [10 16  6]]]\n",
            "\n",
            "===============\n",
            "[[[14 19  5]\n",
            "  [19 14 13]\n",
            "  [10 18  7]]]\n",
            "===============\n",
            "(1, 3, 3)\n",
            "\n",
            "===============\n",
            "[[[10 14 10]\n",
            "  [ 6  2  4]\n",
            "  [10 16  6]]]\n",
            "===============\n",
            "(1, 3, 3)\n"
          ]
        }
      ]
    },
    {
      "cell_type": "code",
      "source": [
        "np.concatenate((arr32, arr33), axis=1)"
      ],
      "metadata": {
        "colab": {
          "base_uri": "https://localhost:8080/"
        },
        "id": "IUHzAdM0S62A",
        "outputId": "b949bff1-b53e-43d1-d744-05edbc40bb76"
      },
      "execution_count": 54,
      "outputs": [
        {
          "output_type": "execute_result",
          "data": {
            "text/plain": [
              "array([[[14, 19,  5],\n",
              "        [19, 14, 13],\n",
              "        [10, 18,  7],\n",
              "        [10, 14, 10],\n",
              "        [ 6,  2,  4],\n",
              "        [10, 16,  6]]])"
            ]
          },
          "metadata": {},
          "execution_count": 54
        }
      ]
    },
    {
      "cell_type": "code",
      "source": [
        "# item 1 - matrix multiplication\n",
        "\n",
        "A = np.array([[1,2], [3, 4]])\n",
        "B = np.array([[5, 6], [7, 8]])\n",
        "\n",
        "print(A)\n",
        "print(\"==========\")\n",
        "print(B)\n",
        "print(\"===========\")\n",
        "print(np.dot(A, B))\n",
        "print(\"===========\")\n",
        "print(A@B)"
      ],
      "metadata": {
        "colab": {
          "base_uri": "https://localhost:8080/"
        },
        "id": "qCy-LnRya-yS",
        "outputId": "d8d85f34-eeb1-444f-c7e6-62b5d29f3959"
      },
      "execution_count": 55,
      "outputs": [
        {
          "output_type": "stream",
          "name": "stdout",
          "text": [
            "[[1 2]\n",
            " [3 4]]\n",
            "==========\n",
            "[[5 6]\n",
            " [7 8]]\n",
            "===========\n",
            "[[19 22]\n",
            " [43 50]]\n",
            "===========\n",
            "[[19 22]\n",
            " [43 50]]\n"
          ]
        }
      ]
    },
    {
      "cell_type": "code",
      "source": [
        "# item 2 - linear equations\n",
        "\n",
        "A = np.array([[2, 1], [1, 3]])\n",
        "B = np.array([5, 7])\n",
        "\n",
        "print(np.linalg.solve(A, B))\n"
      ],
      "metadata": {
        "colab": {
          "base_uri": "https://localhost:8080/"
        },
        "id": "Je0ozUeidn2-",
        "outputId": "6eb0df87-6f13-4f5b-ddf5-a452184430da"
      },
      "execution_count": 56,
      "outputs": [
        {
          "output_type": "stream",
          "name": "stdout",
          "text": [
            "[1.6 1.8]\n"
          ]
        }
      ]
    },
    {
      "cell_type": "code",
      "source": [
        "# item 3 - Eigenvalues and Eigenvectors\n",
        "\n",
        "C = np.array([[4, -2], [1, 1]])\n",
        "print(np.linalg.eig(C))\n"
      ],
      "metadata": {
        "colab": {
          "base_uri": "https://localhost:8080/"
        },
        "id": "C-f4AfrvpFGw",
        "outputId": "a00461bd-a99f-4644-9901-db69efaefa43"
      },
      "execution_count": 57,
      "outputs": [
        {
          "output_type": "stream",
          "name": "stdout",
          "text": [
            "EigResult(eigenvalues=array([3., 2.]), eigenvectors=array([[0.89442719, 0.70710678],\n",
            "       [0.4472136 , 0.70710678]]))\n"
          ]
        }
      ]
    },
    {
      "cell_type": "code",
      "source": [
        "# item 4 - Determinants and Inverse\n",
        "\n",
        "print(np.linalg.det(A))\n",
        "print(\"==============\")\n",
        "print(np.linalg.inv(A))\n",
        "print(\"==============\")\n",
        "print(A@(np.linalg.inv(A)))"
      ],
      "metadata": {
        "colab": {
          "base_uri": "https://localhost:8080/"
        },
        "id": "ntK3IQhuprFv",
        "outputId": "54c3dca5-37e4-4ab7-9473-f9fb0ba0b076"
      },
      "execution_count": 58,
      "outputs": [
        {
          "output_type": "stream",
          "name": "stdout",
          "text": [
            "5.000000000000001\n",
            "==============\n",
            "[[ 0.6 -0.2]\n",
            " [-0.2  0.4]]\n",
            "==============\n",
            "[[ 1.00000000e+00  0.00000000e+00]\n",
            " [-5.55111512e-17  1.00000000e+00]]\n"
          ]
        }
      ]
    },
    {
      "cell_type": "code",
      "source": [
        "# item 5\n",
        "\n",
        "D = np.random.rand(3,3)\n",
        "print(D)\n",
        "print(\"=============\")\n",
        "print(np.linalg.eig(D))\n",
        "print(\"=============\")\n",
        "\n",
        "B = np.array([1, 2, 3])\n",
        "print(B)\n",
        "print(\"=============\")\n",
        "print(np.linalg.solve(D, B))\n"
      ],
      "metadata": {
        "colab": {
          "base_uri": "https://localhost:8080/"
        },
        "id": "-FdO0DVAqTsQ",
        "outputId": "0c332770-b96d-4717-83ef-374a082aa511"
      },
      "execution_count": 59,
      "outputs": [
        {
          "output_type": "stream",
          "name": "stdout",
          "text": [
            "[[0.80506017 0.76228318 0.33471024]\n",
            " [0.64543776 0.80893816 0.97809876]\n",
            " [0.9468458  0.07826056 0.69925032]]\n",
            "=============\n",
            "EigResult(eigenvalues=array([1.99461318+0.j        , 0.15931774+0.48313994j,\n",
            "       0.15931774-0.48313994j]), eigenvectors=array([[-0.56756056+0.j        , -0.34633989+0.3704249j ,\n",
            "        -0.34633989-0.3704249j ],\n",
            "       [-0.6853451 +0.j        , -0.22221272-0.53330537j,\n",
            "        -0.22221272+0.53330537j],\n",
            "       [-0.4562643 +0.j        ,  0.63956311+0.j        ,\n",
            "         0.63956311-0.j        ]]))\n",
            "=============\n",
            "[1 2 3]\n",
            "=============\n",
            "[ 1.74330132 -1.44775091  2.0917606 ]\n"
          ]
        }
      ]
    },
    {
      "cell_type": "code",
      "source": [
        "# Advanced Numpy - Broadcasting"
      ],
      "metadata": {
        "id": "pAUEctlfqnLN"
      },
      "execution_count": 60,
      "outputs": []
    },
    {
      "cell_type": "code",
      "source": [],
      "metadata": {
        "id": "MScW5kPgjscT"
      },
      "execution_count": null,
      "outputs": []
    }
  ]
}