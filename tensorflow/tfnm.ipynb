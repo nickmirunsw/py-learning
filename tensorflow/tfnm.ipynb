{
  "nbformat": 4,
  "nbformat_minor": 0,
  "metadata": {
    "colab": {
      "provenance": [],
      "authorship_tag": "ABX9TyNQ5h+1hms9KSaREyTED4Tf",
      "include_colab_link": true
    },
    "kernelspec": {
      "name": "python3",
      "display_name": "Python 3"
    },
    "language_info": {
      "name": "python"
    }
  },
  "cells": [
    {
      "cell_type": "markdown",
      "metadata": {
        "id": "view-in-github",
        "colab_type": "text"
      },
      "source": [
        "<a href=\"https://colab.research.google.com/github/nickmirunsw/py-learning/blob/main/tensorflow/tfnm.ipynb\" target=\"_parent\"><img src=\"https://colab.research.google.com/assets/colab-badge.svg\" alt=\"Open In Colab\"/></a>"
      ]
    },
    {
      "cell_type": "code",
      "execution_count": 71,
      "metadata": {
        "id": "YtauEeEcEn0I"
      },
      "outputs": [],
      "source": [
        "# chatgpt cheatsheet and example\n",
        "\n",
        "# import tensorflow as tf\n",
        "# import numpy as np\n",
        "# import matplotlib.pyplot as plt\n",
        "\n",
        "# # 1. Core TensorFlow Operations\n",
        "# print(\"\\n### Core TensorFlow Operations ###\")\n",
        "# constant_tensor = tf.constant([1, 2, 3], dtype=tf.float32, name=\"my_constant\")\n",
        "# variable_tensor = tf.Variable(initial_value=[4, 5, 6], trainable=True, dtype=tf.float32, name=\"my_variable\")\n",
        "\n",
        "# print(\"Constant:\", constant_tensor.numpy())\n",
        "# print(\"Variable:\", variable_tensor.numpy())\n",
        "\n",
        "# # 2. Keras Model Building\n",
        "# print(\"\\n### Keras Model Building ###\")\n",
        "# model = tf.keras.Sequential([\n",
        "#     tf.keras.layers.Dense(units=128, activation='relu', input_shape=(64,), name=\"dense_1\"),\n",
        "#     tf.keras.layers.BatchNormalization(name=\"batch_norm_1\"),\n",
        "#     tf.keras.layers.Dropout(rate=0.2, name=\"dropout_1\"),\n",
        "#     tf.keras.layers.Dense(units=64, activation='relu', name=\"dense_2\"),\n",
        "#     tf.keras.layers.BatchNormalization(name=\"batch_norm_2\"),\n",
        "#     tf.keras.layers.Dense(units=10, activation='softmax', name=\"output\")\n",
        "# ], name=\"sequential_model\")\n",
        "\n",
        "# model.summary()\n",
        "\n",
        "# # 3. Model Compilation\n",
        "# print(\"\\n### Model Compilation ###\")\n",
        "# model.compile(\n",
        "#     optimizer=tf.keras.optimizers.Adam(learning_rate=0.001),\n",
        "#     loss=tf.keras.losses.CategoricalCrossentropy(),\n",
        "#     metrics=['accuracy']\n",
        "# )\n",
        "\n",
        "# # 4. Data Preprocessing\n",
        "# print(\"\\n### Data Preprocessing ###\")\n",
        "# x_train = np.random.rand(1000, 64)  # Dummy training data (1000 samples, 64 features)\n",
        "# y_train = tf.keras.utils.to_categorical(np.random.randint(0, 10, size=(1000,)), num_classes=10)\n",
        "\n",
        "# x_val = np.random.rand(200, 64)  # Validation data\n",
        "# y_val = tf.keras.utils.to_categorical(np.random.randint(0, 10, size=(200,)), num_classes=10)\n",
        "\n",
        "# # Normalize data (common preprocessing step)\n",
        "# x_train = (x_train - np.mean(x_train)) / np.std(x_train)\n",
        "# x_val = (x_val - np.mean(x_val)) / np.std(x_val)\n",
        "\n",
        "# # 5. Model Training with Callbacks\n",
        "# print(\"\\n### Model Training ###\")\n",
        "# early_stopping = tf.keras.callbacks.EarlyStopping(\n",
        "#     monitor='val_loss', patience=3, restore_best_weights=True, verbose=1\n",
        "# )\n",
        "# history = model.fit(\n",
        "#     x=x_train,\n",
        "#     y=y_train,\n",
        "#     validation_data=(x_val, y_val),\n",
        "#     epochs=20,\n",
        "#     batch_size=32,\n",
        "#     callbacks=[early_stopping],\n",
        "#     verbose=1\n",
        "# )\n",
        "\n",
        "# # 6. Visualizing Training History\n",
        "# print(\"\\n### Visualizing Training History ###\")\n",
        "# plt.figure(figsize=(12, 4))\n",
        "# plt.subplot(1, 2, 1)\n",
        "# plt.plot(history.history['loss'], label='Training Loss')\n",
        "# plt.plot(history.history['val_loss'], label='Validation Loss')\n",
        "# plt.title('Loss Over Epochs')\n",
        "# plt.xlabel('Epochs')\n",
        "# plt.ylabel('Loss')\n",
        "# plt.legend()\n",
        "\n",
        "# plt.subplot(1, 2, 2)\n",
        "# plt.plot(history.history['accuracy'], label='Training Accuracy')\n",
        "# plt.plot(history.history['val_accuracy'], label='Validation Accuracy')\n",
        "# plt.title('Accuracy Over Epochs')\n",
        "# plt.xlabel('Epochs')\n",
        "# plt.ylabel('Accuracy')\n",
        "# plt.legend()\n",
        "# plt.show()\n",
        "\n",
        "# # 7. Model Evaluation\n",
        "# print(\"\\n### Model Evaluation ###\")\n",
        "# loss, accuracy = model.evaluate(x_val, y_val, verbose=1)\n",
        "# print(f\"Validation Loss: {loss:.4f}, Validation Accuracy: {accuracy:.4f}\")\n",
        "\n",
        "# # 8. Model Prediction\n",
        "# print(\"\\n### Model Prediction ###\")\n",
        "# predictions = model.predict(x_val[:5])\n",
        "# print(\"Predictions (softmax probabilities):\", predictions)\n",
        "\n",
        "# # 9. Transfer Learning with Pretrained Models\n",
        "# print(\"\\n### Transfer Learning ###\")\n",
        "# base_model = tf.keras.applications.MobileNetV2(\n",
        "#     input_shape=(128, 128, 3),\n",
        "#     include_top=False,\n",
        "#     weights='imagenet'\n",
        "# )\n",
        "# base_model.trainable = False\n",
        "\n",
        "# transfer_model = tf.keras.Sequential([\n",
        "#     tf.keras.layers.InputLayer(input_shape=(128, 128, 3)),\n",
        "#     base_model,\n",
        "#     tf.keras.layers.GlobalAveragePooling2D(),\n",
        "#     tf.keras.layers.Dense(10, activation='softmax')\n",
        "# ])\n",
        "\n",
        "# transfer_model.compile(\n",
        "#     optimizer=tf.keras.optimizers.Adam(),\n",
        "#     loss='categorical_crossentropy',\n",
        "#     metrics=['accuracy']\n",
        "# )\n",
        "# transfer_model.summary()\n",
        "\n",
        "# # Dummy image data\n",
        "# x_train_images = np.random.rand(100, 128, 128, 3)  # 100 RGB images of size 128x128\n",
        "# y_train_images = tf.keras.utils.to_categorical(np.random.randint(0, 10, size=(100,)), num_classes=10)\n",
        "\n",
        "# x_val_images = np.random.rand(20, 128, 128, 3)\n",
        "# y_val_images = tf.keras.utils.to_categorical(np.random.randint(0, 10, size=(20,)), num_classes=10)\n",
        "\n",
        "# # Train transfer learning model\n",
        "# transfer_model.fit(\n",
        "#     x=x_train_images,\n",
        "#     y=y_train_images,\n",
        "#     validation_data=(x_val_images, y_val_images),\n",
        "#     epochs=5,\n",
        "#     batch_size=16\n",
        "# )\n",
        "\n",
        "# # 10. Model Saving and Loading\n",
        "# print(\"\\n### Model Saving and Loading ###\")\n",
        "# model.save(\"my_model.h5\")\n",
        "# loaded_model = tf.keras.models.load_model(\"my_model.h5\")\n",
        "# print(\"Model loaded successfully!\")\n",
        "\n",
        "# # 11. TensorFlow Dataset API\n",
        "# print(\"\\n### TensorFlow Dataset API ###\")\n",
        "# dataset = tf.data.Dataset.from_tensor_slices((x_train, y_train))\n",
        "# dataset = dataset.shuffle(buffer_size=100).batch(32).prefetch(tf.data.AUTOTUNE)\n",
        "\n",
        "# for batch in dataset.take(1):\n",
        "#     print(\"A batch of data:\", batch)\n",
        "\n",
        "# # 12. Advanced TensorFlow Features: Gradient Tape\n",
        "# print(\"\\n### Gradient Tape ###\")\n",
        "# x = tf.constant(3.0)\n",
        "# y = tf.constant(4.0)\n",
        "\n",
        "# with tf.GradientTape() as tape:\n",
        "#     tape.watch(x)\n",
        "#     z = x ** 2 + y ** 2\n",
        "# gradients = tape.gradient(z, x)\n",
        "# print(\"Gradient of z with respect to x:\", gradients.numpy())\n"
      ]
    },
    {
      "cell_type": "code",
      "source": [
        "\n",
        "from ast import increment_lineno\n",
        "import tensorflow as tf\n",
        "from tensorflow import keras\n",
        "import matplotlib.pyplot as plt\n",
        "%matplotlib inline\n",
        "import numpy as np\n",
        "import pandas as pd"
      ],
      "metadata": {
        "id": "2m_vKmYbEtd6"
      },
      "execution_count": 72,
      "outputs": []
    },
    {
      "cell_type": "code",
      "source": [
        "(x_train, y_train) , (x_test, y_test) = keras.datasets.mnist.load_data()"
      ],
      "metadata": {
        "id": "RJthIZjVzIAQ"
      },
      "execution_count": 73,
      "outputs": []
    },
    {
      "cell_type": "code",
      "source": [
        "print(f\"x_train --> Shape:{x_train.shape} Length:{len(x_train)}\")\n",
        "print(\"=============\")\n",
        "print(f\"x_train --> Shape:{y_train.shape} Length:{len(y_train)}\")\n",
        "print(\"=============\")\n",
        "print(f\"x_test -->  Shape:{x_test.shape} Length:{len(x_test)}\")\n",
        "print(\"=============\")\n",
        "print(f\"y_test -->  Shape:{y_test.shape} Length:{len(y_test)}\")\n",
        "print(\"=============\")\n",
        "print(x_train[0].shape)\n",
        "print(\"=============\")\n",
        "print(y_train[0])\n",
        "print(\"=============\")\n",
        "print(x_test[0].shape)\n",
        "print(\"=============\")\n",
        "print(y_test[0])\n",
        "print(\"=============\")\n",
        "# print(x_train[0])"
      ],
      "metadata": {
        "id": "kv6AMSpPzLrR",
        "outputId": "c48247f3-ee08-4110-b0b6-d8579dcadf66",
        "colab": {
          "base_uri": "https://localhost:8080/"
        }
      },
      "execution_count": 74,
      "outputs": [
        {
          "output_type": "stream",
          "name": "stdout",
          "text": [
            "x_train --> Shape:(60000, 28, 28) Length:60000\n",
            "=============\n",
            "x_train --> Shape:(60000,) Length:60000\n",
            "=============\n",
            "x_test -->  Shape:(10000, 28, 28) Length:10000\n",
            "=============\n",
            "y_test -->  Shape:(10000,) Length:10000\n",
            "=============\n",
            "(28, 28)\n",
            "=============\n",
            "5\n",
            "=============\n",
            "(28, 28)\n",
            "=============\n",
            "7\n",
            "=============\n"
          ]
        }
      ]
    },
    {
      "cell_type": "code",
      "source": [
        "plt.matshow(x_train[2])"
      ],
      "metadata": {
        "id": "QC4NzYdA0rfg",
        "outputId": "d5f421f4-8a9c-4a7e-8f3e-35ded77ebe6f",
        "colab": {
          "base_uri": "https://localhost:8080/",
          "height": 454
        }
      },
      "execution_count": 75,
      "outputs": [
        {
          "output_type": "execute_result",
          "data": {
            "text/plain": [
              "<matplotlib.image.AxesImage at 0x7c046f905d50>"
            ]
          },
          "metadata": {},
          "execution_count": 75
        },
        {
          "output_type": "display_data",
          "data": {
            "text/plain": [
              "<Figure size 480x480 with 1 Axes>"
            ],
            "image/png": "[encoded data removed]"
          },
          "metadata": {}
        }
      ]
    },
    {
      "cell_type": "code",
      "source": [
        "x_train = x_train/255\n",
        "x_test = x_test/255"
      ],
      "metadata": {
        "id": "VVy8YxmOCXL_"
      },
      "execution_count": 76,
      "outputs": []
    },
    {
      "cell_type": "code",
      "source": [
        "x_train_flattened = x_train.reshape((60000, 28*28))\n",
        "x_test_flattened = x_test.reshape((10000, 28*28))\n",
        "print(x_train_flattened.shape)\n",
        "print(x_test_flattened.shape)"
      ],
      "metadata": {
        "id": "g2e8Dw5I9UwT",
        "outputId": "62c1d6ad-c9eb-47a5-fbca-adf3c547cc09",
        "colab": {
          "base_uri": "https://localhost:8080/"
        }
      },
      "execution_count": 77,
      "outputs": [
        {
          "output_type": "stream",
          "name": "stdout",
          "text": [
            "(60000, 784)\n",
            "(10000, 784)\n"
          ]
        }
      ]
    },
    {
      "cell_type": "code",
      "source": [
        "model = keras.Sequential([keras.layers.Dense(10, input_shape=(784,), activation=\"sigmoid\")])\n",
        "model.compile(optimizer='adam', loss='sparse_categorical_crossentropy', metrics=['accuracy'])\n",
        "model.fit(x_train_flattened, y_train, epochs=5)"
      ],
      "metadata": {
        "id": "P7oNpxTT9hx8",
        "outputId": "0aa54eff-54fd-4ded-a148-30e4c21e83cb",
        "colab": {
          "base_uri": "https://localhost:8080/"
        }
      },
      "execution_count": 78,
      "outputs": [
        {
          "output_type": "stream",
          "name": "stderr",
          "text": [
            "/usr/local/lib/python3.10/dist-packages/keras/src/layers/core/dense.py:87: UserWarning: Do not pass an `input_shape`/`input_dim` argument to a layer. When using Sequential models, prefer using an `Input(shape)` object as the first layer in the model instead.\n",
            "  super().__init__(activity_regularizer=activity_regularizer, **kwargs)\n"
          ]
        },
        {
          "output_type": "stream",
          "name": "stdout",
          "text": [
            "Epoch 1/5\n",
            "\u001b[1m1875/1875\u001b[0m \u001b[32m━━━━━━━━━━━━━━━━━━━━\u001b[0m\u001b[37m\u001b[0m \u001b[1m3s\u001b[0m 2ms/step - accuracy: 0.8089 - loss: 0.7263\n",
            "Epoch 2/5\n",
            "\u001b[1m1875/1875\u001b[0m \u001b[32m━━━━━━━━━━━━━━━━━━━━\u001b[0m\u001b[37m\u001b[0m \u001b[1m3s\u001b[0m 2ms/step - accuracy: 0.9147 - loss: 0.3100\n",
            "Epoch 3/5\n",
            "\u001b[1m1875/1875\u001b[0m \u001b[32m━━━━━━━━━━━━━━━━━━━━\u001b[0m\u001b[37m\u001b[0m \u001b[1m5s\u001b[0m 1ms/step - accuracy: 0.9189 - loss: 0.2876\n",
            "Epoch 4/5\n",
            "\u001b[1m1875/1875\u001b[0m \u001b[32m━━━━━━━━━━━━━━━━━━━━\u001b[0m\u001b[37m\u001b[0m \u001b[1m5s\u001b[0m 2ms/step - accuracy: 0.9249 - loss: 0.2736\n",
            "Epoch 5/5\n",
            "\u001b[1m1875/1875\u001b[0m \u001b[32m━━━━━━━━━━━━━━━━━━━━\u001b[0m\u001b[37m\u001b[0m \u001b[1m4s\u001b[0m 2ms/step - accuracy: 0.9267 - loss: 0.2625\n"
          ]
        },
        {
          "output_type": "execute_result",
          "data": {
            "text/plain": [
              "<keras.src.callbacks.history.History at 0x7c046fd9f250>"
            ]
          },
          "metadata": {},
          "execution_count": 78
        }
      ]
    },
    {
      "cell_type": "code",
      "source": [
        "model.evaluate(x_test_flattened, y_test)"
      ],
      "metadata": {
        "id": "o4zoRoc1_KoP",
        "outputId": "753c9024-1901-47e7-bee3-fde683516086",
        "colab": {
          "base_uri": "https://localhost:8080/"
        }
      },
      "execution_count": 79,
      "outputs": [
        {
          "output_type": "stream",
          "name": "stdout",
          "text": [
            "\u001b[1m313/313\u001b[0m \u001b[32m━━━━━━━━━━━━━━━━━━━━\u001b[0m\u001b[37m\u001b[0m \u001b[1m1s\u001b[0m 2ms/step - accuracy: 0.9153 - loss: 0.3012\n"
          ]
        },
        {
          "output_type": "execute_result",
          "data": {
            "text/plain": [
              "[0.26734399795532227, 0.9257000088691711]"
            ]
          },
          "metadata": {},
          "execution_count": 79
        }
      ]
    },
    {
      "cell_type": "code",
      "source": [
        "plt.matshow(x_test[0])"
      ],
      "metadata": {
        "id": "0g7y1uivC04x",
        "outputId": "6eff5faf-7f15-4431-f0b4-94b929bb24c1",
        "colab": {
          "base_uri": "https://localhost:8080/",
          "height": 454
        }
      },
      "execution_count": 80,
      "outputs": [
        {
          "output_type": "execute_result",
          "data": {
            "text/plain": [
              "<matplotlib.image.AxesImage at 0x7c04a2e929e0>"
            ]
          },
          "metadata": {},
          "execution_count": 80
        },
        {
          "output_type": "display_data",
          "data": {
            "text/plain": [
              "<Figure size 480x480 with 1 Axes>"
            ],
            "image/png": "[encoded data removed]"
          },
          "metadata": {}
        }
      ]
    },
    {
      "cell_type": "code",
      "source": [
        "y_predicted = model.predict(x_test_flattened)"
      ],
      "metadata": {
        "id": "NCZ-G_odDG6l",
        "outputId": "d6907b0d-9eb3-476c-ed16-ba8094a1af29",
        "colab": {
          "base_uri": "https://localhost:8080/"
        }
      },
      "execution_count": 81,
      "outputs": [
        {
          "output_type": "stream",
          "name": "stdout",
          "text": [
            "\u001b[1m313/313\u001b[0m \u001b[32m━━━━━━━━━━━━━━━━━━━━\u001b[0m\u001b[37m\u001b[0m \u001b[1m0s\u001b[0m 1ms/step\n"
          ]
        }
      ]
    },
    {
      "cell_type": "code",
      "source": [
        "print(np.argmax(y_predicted[0]))"
      ],
      "metadata": {
        "id": "-cFve3vkDMnH",
        "outputId": "129e799e-2029-43c9-ef1e-a8ef104fb8ee",
        "colab": {
          "base_uri": "https://localhost:8080/"
        }
      },
      "execution_count": 82,
      "outputs": [
        {
          "output_type": "stream",
          "name": "stdout",
          "text": [
            "7\n"
          ]
        }
      ]
    },
    {
      "cell_type": "code",
      "source": [
        "y_predicted_labels = [np.argmax(i) for i in y_predicted]"
      ],
      "metadata": {
        "id": "OJYsTDeCDaM2"
      },
      "execution_count": 83,
      "outputs": []
    },
    {
      "cell_type": "code",
      "source": [
        "cm = tf.math.confusion_matrix(labels=y_test, predictions=y_predicted_labels)\n",
        "print(cm)"
      ],
      "metadata": {
        "id": "fe5oBB0KEOl6",
        "outputId": "f71900c2-f40c-4899-ccf8-9b576a842dff",
        "colab": {
          "base_uri": "https://localhost:8080/"
        }
      },
      "execution_count": 84,
      "outputs": [
        {
          "output_type": "stream",
          "name": "stdout",
          "text": [
            "tf.Tensor(\n",
            "[[ 962    0    0    1    0    5    8    3    1    0]\n",
            " [   0 1110    4    1    0    1    4    2   13    0]\n",
            " [   7    9  915   16   11    5   13   13   39    4]\n",
            " [   4    0   17  906    0   32    3   12   27    9]\n",
            " [   1    1    2    1  912    0   15    4    9   37]\n",
            " [  10    2    2   19    9  786   21    6   31    6]\n",
            " [   9    3    5    1    7    8  922    2    1    0]\n",
            " [   1    5   22    4    9    0    0  950    4   33]\n",
            " [   7    7    5   14    8   25   11   12  875   10]\n",
            " [  11    7    1    7   27    7    0   23    7  919]], shape=(10, 10), dtype=int32)\n"
          ]
        }
      ]
    },
    {
      "cell_type": "code",
      "source": [
        "import seaborn as sns\n",
        "plt.figure(figsize = (10,7))\n",
        "sns.heatmap(cm, annot=True, fmt='d')\n",
        "plt.xlabel(\"Predicted\")\n",
        "plt.ylabel(\"Truth\")"
      ],
      "metadata": {
        "id": "_KtLF_kuFE2h",
        "outputId": "36b3cde8-1ff5-4ffa-ed60-8a6e22dd3c8a",
        "colab": {
          "base_uri": "https://localhost:8080/",
          "height": 636
        }
      },
      "execution_count": 85,
      "outputs": [
        {
          "output_type": "execute_result",
          "data": {
            "text/plain": [
              "Text(95.72222222222221, 0.5, 'Truth')"
            ]
          },
          "metadata": {},
          "execution_count": 85
        },
        {
          "output_type": "display_data",
          "data": {
            "text/plain": [
              "<Figure size 1000x700 with 2 Axes>"
            ],
            "image/png": "[encoded data removed]"
          },
          "metadata": {}
        }
      ]
    },
    {
      "cell_type": "code",
      "source": [
        "model = keras.Sequential([keras.layers.Dense(100, input_shape=(784,), activation=\"relu\"),\n",
        "                          keras.layers.Dense(10, activation='sigmoid')\n",
        "                          ])\n",
        "model.compile(optimizer='adam', loss='sparse_categorical_crossentropy', metrics=['accuracy'])\n",
        "model.fit(x_train_flattened, y_train, epochs=1)"
      ],
      "metadata": {
        "id": "eNP7iv4PFnco",
        "outputId": "7565ba29-4264-4ecc-ac3f-029b8ede7fe5",
        "colab": {
          "base_uri": "https://localhost:8080/"
        }
      },
      "execution_count": 86,
      "outputs": [
        {
          "output_type": "stream",
          "name": "stderr",
          "text": [
            "/usr/local/lib/python3.10/dist-packages/keras/src/layers/core/dense.py:87: UserWarning: Do not pass an `input_shape`/`input_dim` argument to a layer. When using Sequential models, prefer using an `Input(shape)` object as the first layer in the model instead.\n",
            "  super().__init__(activity_regularizer=activity_regularizer, **kwargs)\n"
          ]
        },
        {
          "output_type": "stream",
          "name": "stdout",
          "text": [
            "\u001b[1m1875/1875\u001b[0m \u001b[32m━━━━━━━━━━━━━━━━━━━━\u001b[0m\u001b[37m\u001b[0m \u001b[1m6s\u001b[0m 3ms/step - accuracy: 0.8683 - loss: 0.4645\n"
          ]
        },
        {
          "output_type": "execute_result",
          "data": {
            "text/plain": [
              "<keras.src.callbacks.history.History at 0x7c04a1ccb700>"
            ]
          },
          "metadata": {},
          "execution_count": 86
        }
      ]
    },
    {
      "cell_type": "code",
      "source": [
        "y_predicted = model.predict(x_test_flattened)"
      ],
      "metadata": {
        "id": "H7p1Gn0aGWCV",
        "outputId": "720de6ae-54e3-4c14-ba1a-9ecae8c78106",
        "colab": {
          "base_uri": "https://localhost:8080/"
        }
      },
      "execution_count": 87,
      "outputs": [
        {
          "output_type": "stream",
          "name": "stdout",
          "text": [
            "\u001b[1m313/313\u001b[0m \u001b[32m━━━━━━━━━━━━━━━━━━━━\u001b[0m\u001b[37m\u001b[0m \u001b[1m1s\u001b[0m 2ms/step\n"
          ]
        }
      ]
    },
    {
      "cell_type": "code",
      "source": [
        "y_predicted_labels = [np.argmax(i) for i in y_predicted]"
      ],
      "metadata": {
        "id": "NRXpkiSdGtsf"
      },
      "execution_count": 88,
      "outputs": []
    },
    {
      "cell_type": "code",
      "source": [
        "cm = tf.math.confusion_matrix(labels=y_test, predictions=y_predicted_labels)\n",
        "print(cm)\n",
        "plt.figure(figsize = (10,7))\n",
        "sns.heatmap(cm, annot=True, fmt='d')\n",
        "plt.xlabel(\"Predicted\")\n",
        "plt.ylabel(\"Truth\")"
      ],
      "metadata": {
        "id": "2Eg4OwvzGweC",
        "outputId": "dc26c43a-3a16-4e02-f5cf-c66b412a8d5f",
        "colab": {
          "base_uri": "https://localhost:8080/",
          "height": 827
        }
      },
      "execution_count": 89,
      "outputs": [
        {
          "output_type": "stream",
          "name": "stdout",
          "text": [
            "tf.Tensor(\n",
            "[[ 969    0    0    1    0    5    3    1    1    0]\n",
            " [   0 1119    4    0    1    1    2    0    8    0]\n",
            " [  10    4  985    1    5    0    6   10   10    1]\n",
            " [   4    2   20  923    0   32    0   11   15    3]\n",
            " [   2    1    5    0  941    1    6    3    5   18]\n",
            " [   5    1    0    5    0  866    8    0    5    2]\n",
            " [  10    3    1    1    4   24  913    0    2    0]\n",
            " [   1   11   14    4    3    1    0  985    1    8]\n",
            " [   5    1    5    8    6   14    3   12  917    3]\n",
            " [   5    6    1    7   21   13    1   15    3  937]], shape=(10, 10), dtype=int32)\n"
          ]
        },
        {
          "output_type": "execute_result",
          "data": {
            "text/plain": [
              "Text(95.72222222222221, 0.5, 'Truth')"
            ]
          },
          "metadata": {},
          "execution_count": 89
        },
        {
          "output_type": "display_data",
          "data": {
            "text/plain": [
              "<Figure size 1000x700 with 2 Axes>"
            ],
            "image/png": "[encoded data removed]"
          },
          "metadata": {}
        }
      ]
    },
    {
      "cell_type": "code",
      "source": [
        "model = keras.Sequential([\n",
        "                          keras.layers.Flatten(input_shape=(28, 28)),\n",
        "                          keras.layers.Dense(100, activation=\"relu\"),\n",
        "                          keras.layers.Dense(10, activation='sigmoid')\n",
        "                          ])\n",
        "model.compile(optimizer='adam', loss='sparse_categorical_crossentropy', metrics=['accuracy'])\n",
        "model.fit(x_train, y_train, epochs=2)"
      ],
      "metadata": {
        "id": "WcT-PYWiG0pS",
        "outputId": "2b03595f-d5a8-4e6c-cddf-db1b745c0cdf",
        "colab": {
          "base_uri": "https://localhost:8080/"
        }
      },
      "execution_count": 90,
      "outputs": [
        {
          "output_type": "stream",
          "name": "stderr",
          "text": [
            "/usr/local/lib/python3.10/dist-packages/keras/src/layers/reshaping/flatten.py:37: UserWarning: Do not pass an `input_shape`/`input_dim` argument to a layer. When using Sequential models, prefer using an `Input(shape)` object as the first layer in the model instead.\n",
            "  super().__init__(**kwargs)\n"
          ]
        },
        {
          "output_type": "stream",
          "name": "stdout",
          "text": [
            "Epoch 1/2\n",
            "\u001b[1m1875/1875\u001b[0m \u001b[32m━━━━━━━━━━━━━━━━━━━━\u001b[0m\u001b[37m\u001b[0m \u001b[1m6s\u001b[0m 3ms/step - accuracy: 0.8691 - loss: 0.4603\n",
            "Epoch 2/2\n",
            "\u001b[1m1875/1875\u001b[0m \u001b[32m━━━━━━━━━━━━━━━━━━━━\u001b[0m\u001b[37m\u001b[0m \u001b[1m14s\u001b[0m 5ms/step - accuracy: 0.9620 - loss: 0.1307\n"
          ]
        },
        {
          "output_type": "execute_result",
          "data": {
            "text/plain": [
              "<keras.src.callbacks.history.History at 0x7c04a180b460>"
            ]
          },
          "metadata": {},
          "execution_count": 90
        }
      ]
    },
    {
      "cell_type": "code",
      "source": [
        "df = pd.read_csv(\"https://raw.githubusercontent.com/codebasics/deep-learning-keras-tf-tutorial/refs/heads/master/6_gradient_descent/insurance_data.csv\")\n",
        "df.head()"
      ],
      "metadata": {
        "id": "jVpJtUz0Hj7D",
        "outputId": "5a21c12b-f0ca-43ef-8553-a2ba83dcfbf9",
        "colab": {
          "base_uri": "https://localhost:8080/",
          "height": 206
        }
      },
      "execution_count": 91,
      "outputs": [
        {
          "output_type": "execute_result",
          "data": {
            "text/plain": [
              "   age  affordibility  bought_insurance\n",
              "0   22              1                 0\n",
              "1   25              0                 0\n",
              "2   47              1                 1\n",
              "3   52              0                 0\n",
              "4   46              1                 1"
            ],
            "text/html": [
              "\n",
              "  <div id=\"df-543746a3-901f-4886-9a92-c23e13049405\" class=\"colab-df-container\">\n",
              "    <div>\n",
              "<style scoped>\n",
              "    .dataframe tbody tr th:only-of-type {\n",
              "        vertical-align: middle;\n",
              "    }\n",
              "\n",
              "    .dataframe tbody tr th {\n",
              "        vertical-align: top;\n",
              "    }\n",
              "\n",
              "    .dataframe thead th {\n",
              "        text-align: right;\n",
              "    }\n",
              "</style>\n",
              "<table border=\"1\" class=\"dataframe\">\n",
              "  <thead>\n",
              "    <tr style=\"text-align: right;\">\n",
              "      <th></th>\n",
              "      <th>age</th>\n",
              "      <th>affordibility</th>\n",
              "      <th>bought_insurance</th>\n",
              "    </tr>\n",
              "  </thead>\n",
              "  <tbody>\n",
              "    <tr>\n",
              "      <th>0</th>\n",
              "      <td>22</td>\n",
              "      <td>1</td>\n",
              "      <td>0</td>\n",
              "    </tr>\n",
              "    <tr>\n",
              "      <th>1</th>\n",
              "      <td>25</td>\n",
              "      <td>0</td>\n",
              "      <td>0</td>\n",
              "    </tr>\n",
              "    <tr>\n",
              "      <th>2</th>\n",
              "      <td>47</td>\n",
              "      <td>1</td>\n",
              "      <td>1</td>\n",
              "    </tr>\n",
              "    <tr>\n",
              "      <th>3</th>\n",
              "      <td>52</td>\n",
              "      <td>0</td>\n",
              "      <td>0</td>\n",
              "    </tr>\n",
              "    <tr>\n",
              "      <th>4</th>\n",
              "      <td>46</td>\n",
              "      <td>1</td>\n",
              "      <td>1</td>\n",
              "    </tr>\n",
              "  </tbody>\n",
              "</table>\n",
              "</div>\n",
              "    <div class=\"colab-df-buttons\">\n",
              "\n",
              "  <div class=\"colab-df-container\">\n",
              "    <button class=\"colab-df-convert\" onclick=\"convertToInteractive('df-543746a3-901f-4886-9a92-c23e13049405')\"\n",
              "            title=\"Convert this dataframe to an interactive table.\"\n",
              "            style=\"display:none;\">\n",
              "\n",
              "  <svg xmlns=\"http://www.w3.org/2000/svg\" height=\"24px\" viewBox=\"0 -960 960 960\">\n",
              "    <path d=\"M120-120v-720h720v720H120Zm60-500h600v-160H180v160Zm220 220h160v-160H400v160Zm0 220h160v-160H400v160ZM180-400h160v-160H180v160Zm440 0h160v-160H620v160ZM180-180h160v-160H180v160Zm440 0h160v-160H620v160Z\"/>\n",
              "  </svg>\n",
              "    </button>\n",
              "\n",
              "  <style>\n",
              "    .colab-df-container {\n",
              "      display:flex;\n",
              "      gap: 12px;\n",
              "    }\n",
              "\n",
              "    .colab-df-convert {\n",
              "      background-color: #E8F0FE;\n",
              "      border: none;\n",
              "      border-radius: 50%;\n",
              "      cursor: pointer;\n",
              "      display: none;\n",
              "      fill: #1967D2;\n",
              "      height: 32px;\n",
              "      padding: 0 0 0 0;\n",
              "      width: 32px;\n",
              "    }\n",
              "\n",
              "    .colab-df-convert:hover {\n",
              "      background-color: #E2EBFA;\n",
              "      box-shadow: 0px 1px 2px rgba(60, 64, 67, 0.3), 0px 1px 3px 1px rgba(60, 64, 67, 0.15);\n",
              "      fill: #174EA6;\n",
              "    }\n",
              "\n",
              "    .colab-df-buttons div {\n",
              "      margin-bottom: 4px;\n",
              "    }\n",
              "\n",
              "    [theme=dark] .colab-df-convert {\n",
              "      background-color: #3B4455;\n",
              "      fill: #D2E3FC;\n",
              "    }\n",
              "\n",
              "    [theme=dark] .colab-df-convert:hover {\n",
              "      background-color: #434B5C;\n",
              "      box-shadow: 0px 1px 3px 1px rgba(0, 0, 0, 0.15);\n",
              "      filter: drop-shadow(0px 1px 2px rgba(0, 0, 0, 0.3));\n",
              "      fill: #FFFFFF;\n",
              "    }\n",
              "  </style>\n",
              "\n",
              "    <script>\n",
              "      const buttonEl =\n",
              "        document.querySelector('#df-543746a3-901f-4886-9a92-c23e13049405 button.colab-df-convert');\n",
              "      buttonEl.style.display =\n",
              "        google.colab.kernel.accessAllowed ? 'block' : 'none';\n",
              "\n",
              "      async function convertToInteractive(key) {\n",
              "        const element = document.querySelector('#df-543746a3-901f-4886-9a92-c23e13049405');\n",
              "        const dataTable =\n",
              "          await google.colab.kernel.invokeFunction('convertToInteractive',\n",
              "                                                    [key], {});\n",
              "        if (!dataTable) return;\n",
              "\n",
              "        const docLinkHtml = 'Like what you see? Visit the ' +\n",
              "          '<a target=\"_blank\" href=https://colab.research.google.com/notebooks/data_table.ipynb>data table notebook</a>'\n",
              "          + ' to learn more about interactive tables.';\n",
              "        element.innerHTML = '';\n",
              "        dataTable['output_type'] = 'display_data';\n",
              "        await google.colab.output.renderOutput(dataTable, element);\n",
              "        const docLink = document.createElement('div');\n",
              "        docLink.innerHTML = docLinkHtml;\n",
              "        element.appendChild(docLink);\n",
              "      }\n",
              "    </script>\n",
              "  </div>\n",
              "\n",
              "\n",
              "<div id=\"df-68b3fbf4-e4b8-4180-9730-3ed89f92341e\">\n",
              "  <button class=\"colab-df-quickchart\" onclick=\"quickchart('df-68b3fbf4-e4b8-4180-9730-3ed89f92341e')\"\n",
              "            title=\"Suggest charts\"\n",
              "            style=\"display:none;\">\n",
              "\n",
              "<svg xmlns=\"http://www.w3.org/2000/svg\" height=\"24px\"viewBox=\"0 0 24 24\"\n",
              "     width=\"24px\">\n",
              "    <g>\n",
              "        <path d=\"M19 3H5c-1.1 0-2 .9-2 2v14c0 1.1.9 2 2 2h14c1.1 0 2-.9 2-2V5c0-1.1-.9-2-2-2zM9 17H7v-7h2v7zm4 0h-2V7h2v10zm4 0h-2v-4h2v4z\"/>\n",
              "    </g>\n",
              "</svg>\n",
              "  </button>\n",
              "\n",
              "<style>\n",
              "  .colab-df-quickchart {\n",
              "      --bg-color: #E8F0FE;\n",
              "      --fill-color: #1967D2;\n",
              "      --hover-bg-color: #E2EBFA;\n",
              "      --hover-fill-color: #174EA6;\n",
              "      --disabled-fill-color: #AAA;\n",
              "      --disabled-bg-color: #DDD;\n",
              "  }\n",
              "\n",
              "  [theme=dark] .colab-df-quickchart {\n",
              "      --bg-color: #3B4455;\n",
              "      --fill-color: #D2E3FC;\n",
              "      --hover-bg-color: #434B5C;\n",
              "      --hover-fill-color: #FFFFFF;\n",
              "      --disabled-bg-color: #3B4455;\n",
              "      --disabled-fill-color: #666;\n",
              "  }\n",
              "\n",
              "  .colab-df-quickchart {\n",
              "    background-color: var(--bg-color);\n",
              "    border: none;\n",
              "    border-radius: 50%;\n",
              "    cursor: pointer;\n",
              "    display: none;\n",
              "    fill: var(--fill-color);\n",
              "    height: 32px;\n",
              "    padding: 0;\n",
              "    width: 32px;\n",
              "  }\n",
              "\n",
              "  .colab-df-quickchart:hover {\n",
              "    background-color: var(--hover-bg-color);\n",
              "    box-shadow: 0 1px 2px rgba(60, 64, 67, 0.3), 0 1px 3px 1px rgba(60, 64, 67, 0.15);\n",
              "    fill: var(--button-hover-fill-color);\n",
              "  }\n",
              "\n",
              "  .colab-df-quickchart-complete:disabled,\n",
              "  .colab-df-quickchart-complete:disabled:hover {\n",
              "    background-color: var(--disabled-bg-color);\n",
              "    fill: var(--disabled-fill-color);\n",
              "    box-shadow: none;\n",
              "  }\n",
              "\n",
              "  .colab-df-spinner {\n",
              "    border: 2px solid var(--fill-color);\n",
              "    border-color: transparent;\n",
              "    border-bottom-color: var(--fill-color);\n",
              "    animation:\n",
              "      spin 1s steps(1) infinite;\n",
              "  }\n",
              "\n",
              "  @keyframes spin {\n",
              "    0% {\n",
              "      border-color: transparent;\n",
              "      border-bottom-color: var(--fill-color);\n",
              "      border-left-color: var(--fill-color);\n",
              "    }\n",
              "    20% {\n",
              "      border-color: transparent;\n",
              "      border-left-color: var(--fill-color);\n",
              "      border-top-color: var(--fill-color);\n",
              "    }\n",
              "    30% {\n",
              "      border-color: transparent;\n",
              "      border-left-color: var(--fill-color);\n",
              "      border-top-color: var(--fill-color);\n",
              "      border-right-color: var(--fill-color);\n",
              "    }\n",
              "    40% {\n",
              "      border-color: transparent;\n",
              "      border-right-color: var(--fill-color);\n",
              "      border-top-color: var(--fill-color);\n",
              "    }\n",
              "    60% {\n",
              "      border-color: transparent;\n",
              "      border-right-color: var(--fill-color);\n",
              "    }\n",
              "    80% {\n",
              "      border-color: transparent;\n",
              "      border-right-color: var(--fill-color);\n",
              "      border-bottom-color: var(--fill-color);\n",
              "    }\n",
              "    90% {\n",
              "      border-color: transparent;\n",
              "      border-bottom-color: var(--fill-color);\n",
              "    }\n",
              "  }\n",
              "</style>\n",
              "\n",
              "  <script>\n",
              "    async function quickchart(key) {\n",
              "      const quickchartButtonEl =\n",
              "        document.querySelector('#' + key + ' button');\n",
              "      quickchartButtonEl.disabled = true;  // To prevent multiple clicks.\n",
              "      quickchartButtonEl.classList.add('colab-df-spinner');\n",
              "      try {\n",
              "        const charts = await google.colab.kernel.invokeFunction(\n",
              "            'suggestCharts', [key], {});\n",
              "      } catch (error) {\n",
              "        console.error('Error during call to suggestCharts:', error);\n",
              "      }\n",
              "      quickchartButtonEl.classList.remove('colab-df-spinner');\n",
              "      quickchartButtonEl.classList.add('colab-df-quickchart-complete');\n",
              "    }\n",
              "    (() => {\n",
              "      let quickchartButtonEl =\n",
              "        document.querySelector('#df-68b3fbf4-e4b8-4180-9730-3ed89f92341e button');\n",
              "      quickchartButtonEl.style.display =\n",
              "        google.colab.kernel.accessAllowed ? 'block' : 'none';\n",
              "    })();\n",
              "  </script>\n",
              "</div>\n",
              "\n",
              "    </div>\n",
              "  </div>\n"
            ],
            "application/vnd.google.colaboratory.intrinsic+json": {
              "type": "dataframe",
              "variable_name": "df",
              "summary": "{\n  \"name\": \"df\",\n  \"rows\": 28,\n  \"fields\": [\n    {\n      \"column\": \"age\",\n      \"properties\": {\n        \"dtype\": \"number\",\n        \"std\": 15,\n        \"min\": 18,\n        \"max\": 62,\n        \"num_unique_values\": 24,\n        \"samples\": [\n          62,\n          19,\n          22\n        ],\n        \"semantic_type\": \"\",\n        \"description\": \"\"\n      }\n    },\n    {\n      \"column\": \"affordibility\",\n      \"properties\": {\n        \"dtype\": \"number\",\n        \"std\": 0,\n        \"min\": 0,\n        \"max\": 1,\n        \"num_unique_values\": 2,\n        \"samples\": [\n          0,\n          1\n        ],\n        \"semantic_type\": \"\",\n        \"description\": \"\"\n      }\n    },\n    {\n      \"column\": \"bought_insurance\",\n      \"properties\": {\n        \"dtype\": \"number\",\n        \"std\": 0,\n        \"min\": 0,\n        \"max\": 1,\n        \"num_unique_values\": 2,\n        \"samples\": [\n          1,\n          0\n        ],\n        \"semantic_type\": \"\",\n        \"description\": \"\"\n      }\n    }\n  ]\n}"
            }
          },
          "metadata": {},
          "execution_count": 91
        }
      ]
    },
    {
      "cell_type": "code",
      "source": [
        "from sklearn.model_selection import train_test_split\n",
        "X_train, X_test, y_train, y_test = train_test_split(df[['age','affordibility']],df.bought_insurance,test_size=0.2, random_state=25)"
      ],
      "metadata": {
        "id": "5WeoH2Rm2Cav"
      },
      "execution_count": 92,
      "outputs": []
    },
    {
      "cell_type": "code",
      "source": [
        "X_train_scaled = X_train.copy()\n",
        "X_train_scaled['age'] = X_train_scaled['age']/100\n",
        "\n",
        "X_test_scaled = X_test.copy()\n",
        "X_test_scaled['age'] = X_test_scaled['age']/100"
      ],
      "metadata": {
        "id": "46P_K_Ca2IQC"
      },
      "execution_count": 93,
      "outputs": []
    },
    {
      "cell_type": "code",
      "source": [
        "model = keras.Sequential([\n",
        "    keras.layers.Dense(1, input_shape=(2,), activation='sigmoid', kernel_initializer='ones', bias_initializer='zeros')\n",
        "])\n",
        "\n",
        "model.compile(optimizer='adam',\n",
        "              loss='binary_crossentropy',\n",
        "              metrics=['accuracy'])\n",
        "\n",
        "model.fit(X_train_scaled, y_train, epochs=10) #use epochs=5000 when running"
      ],
      "metadata": {
        "id": "OGYgXHGC2byy",
        "outputId": "a880b918-f50e-4635-c287-f766be7c55fe",
        "colab": {
          "base_uri": "https://localhost:8080/"
        }
      },
      "execution_count": 94,
      "outputs": [
        {
          "output_type": "stream",
          "name": "stderr",
          "text": [
            "/usr/local/lib/python3.10/dist-packages/keras/src/layers/core/dense.py:87: UserWarning: Do not pass an `input_shape`/`input_dim` argument to a layer. When using Sequential models, prefer using an `Input(shape)` object as the first layer in the model instead.\n",
            "  super().__init__(activity_regularizer=activity_regularizer, **kwargs)\n"
          ]
        },
        {
          "output_type": "stream",
          "name": "stdout",
          "text": [
            "Epoch 1/10\n",
            "\u001b[1m1/1\u001b[0m \u001b[32m━━━━━━━━━━━━━━━━━━━━\u001b[0m\u001b[37m\u001b[0m \u001b[1m2s\u001b[0m 2s/step - accuracy: 0.5000 - loss: 0.7113\n",
            "Epoch 2/10\n",
            "\u001b[1m1/1\u001b[0m \u001b[32m━━━━━━━━━━━━━━━━━━━━\u001b[0m\u001b[37m\u001b[0m \u001b[1m0s\u001b[0m 27ms/step - accuracy: 0.5000 - loss: 0.7110\n",
            "Epoch 3/10\n",
            "\u001b[1m1/1\u001b[0m \u001b[32m━━━━━━━━━━━━━━━━━━━━\u001b[0m\u001b[37m\u001b[0m \u001b[1m0s\u001b[0m 31ms/step - accuracy: 0.5000 - loss: 0.7106\n",
            "Epoch 4/10\n",
            "\u001b[1m1/1\u001b[0m \u001b[32m━━━━━━━━━━━━━━━━━━━━\u001b[0m\u001b[37m\u001b[0m \u001b[1m0s\u001b[0m 30ms/step - accuracy: 0.5000 - loss: 0.7102\n",
            "Epoch 5/10\n",
            "\u001b[1m1/1\u001b[0m \u001b[32m━━━━━━━━━━━━━━━━━━━━\u001b[0m\u001b[37m\u001b[0m \u001b[1m0s\u001b[0m 31ms/step - accuracy: 0.5000 - loss: 0.7098\n",
            "Epoch 6/10\n",
            "\u001b[1m1/1\u001b[0m \u001b[32m━━━━━━━━━━━━━━━━━━━━\u001b[0m\u001b[37m\u001b[0m \u001b[1m0s\u001b[0m 30ms/step - accuracy: 0.5000 - loss: 0.7094\n",
            "Epoch 7/10\n",
            "\u001b[1m1/1\u001b[0m \u001b[32m━━━━━━━━━━━━━━━━━━━━\u001b[0m\u001b[37m\u001b[0m \u001b[1m0s\u001b[0m 31ms/step - accuracy: 0.5000 - loss: 0.7091\n",
            "Epoch 8/10\n",
            "\u001b[1m1/1\u001b[0m \u001b[32m━━━━━━━━━━━━━━━━━━━━\u001b[0m\u001b[37m\u001b[0m \u001b[1m0s\u001b[0m 31ms/step - accuracy: 0.5000 - loss: 0.7087\n",
            "Epoch 9/10\n",
            "\u001b[1m1/1\u001b[0m \u001b[32m━━━━━━━━━━━━━━━━━━━━\u001b[0m\u001b[37m\u001b[0m \u001b[1m0s\u001b[0m 32ms/step - accuracy: 0.5000 - loss: 0.7083\n",
            "Epoch 10/10\n",
            "\u001b[1m1/1\u001b[0m \u001b[32m━━━━━━━━━━━━━━━━━━━━\u001b[0m\u001b[37m\u001b[0m \u001b[1m0s\u001b[0m 32ms/step - accuracy: 0.5000 - loss: 0.7079\n"
          ]
        },
        {
          "output_type": "execute_result",
          "data": {
            "text/plain": [
              "<keras.src.callbacks.history.History at 0x7c04a17247c0>"
            ]
          },
          "metadata": {},
          "execution_count": 94
        }
      ]
    },
    {
      "cell_type": "code",
      "source": [
        "model.evaluate(X_test_scaled, y_test)"
      ],
      "metadata": {
        "colab": {
          "base_uri": "https://localhost:8080/"
        },
        "id": "8uPRoae5CFNA",
        "outputId": "3aade514-c77c-4ae1-c882-77128a2d61c2"
      },
      "execution_count": 95,
      "outputs": [
        {
          "output_type": "stream",
          "name": "stdout",
          "text": [
            "\u001b[1m1/1\u001b[0m \u001b[32m━━━━━━━━━━━━━━━━━━━━\u001b[0m\u001b[37m\u001b[0m \u001b[1m0s\u001b[0m 164ms/step - accuracy: 0.5000 - loss: 0.7282\n"
          ]
        },
        {
          "output_type": "execute_result",
          "data": {
            "text/plain": [
              "[0.7282423973083496, 0.5]"
            ]
          },
          "metadata": {},
          "execution_count": 95
        }
      ]
    },
    {
      "cell_type": "code",
      "source": [
        "w, b = model.get_weights()\n",
        "print(w)\n",
        "print(\"==================\")\n",
        "print(b)"
      ],
      "metadata": {
        "colab": {
          "base_uri": "https://localhost:8080/"
        },
        "id": "9xDfNTSGCFKW",
        "outputId": "3b8a0883-0f6f-468d-9569-0dc6c5091fba"
      },
      "execution_count": 96,
      "outputs": [
        {
          "output_type": "stream",
          "name": "stdout",
          "text": [
            "[[0.99001  ]\n",
            " [0.9900079]]\n",
            "==================\n",
            "[-0.00999467]\n"
          ]
        }
      ]
    },
    {
      "cell_type": "code",
      "source": [
        "def sigmoid(x):\n",
        "  import math\n",
        "  return 1 / (1 + math.exp(-x))\n",
        "\n",
        "print(sigmoid(18))\n",
        "\n",
        "#numpy version\n",
        "def sigmoidnp(x):\n",
        "  return 1 / (1 + np.exp(-x))"
      ],
      "metadata": {
        "colab": {
          "base_uri": "https://localhost:8080/"
        },
        "id": "RTl2w5AECFIT",
        "outputId": "c41ccf3f-b17d-4149-f0e2-f112038c7a06"
      },
      "execution_count": 97,
      "outputs": [
        {
          "output_type": "stream",
          "name": "stdout",
          "text": [
            "0.9999999847700205\n"
          ]
        }
      ]
    },
    {
      "cell_type": "code",
      "source": [
        "def prediction_function(age, affordibility):\n",
        "  weighted_sum = w[0]*age + w[1]*affordibility + b\n",
        "  return weighted_sum\n",
        "\n",
        "nima = prediction_function(df['age'], df['affordibility'])\n",
        "print(nima)\n",
        "print(\"=========================\")\n",
        "sigmoid(nima[0])"
      ],
      "metadata": {
        "colab": {
          "base_uri": "https://localhost:8080/"
        },
        "id": "3DHIT1k7CFGF",
        "outputId": "d17dc339-e142-4d6b-f0f3-3a208b033e43"
      },
      "execution_count": 98,
      "outputs": [
        {
          "output_type": "stream",
          "name": "stdout",
          "text": [
            "0     22.760234\n",
            "1     24.740256\n",
            "2     47.510484\n",
            "3     51.470527\n",
            "4     46.520474\n",
            "5     56.420574\n",
            "6     54.440557\n",
            "7     59.390607\n",
            "8     62.360635\n",
            "9     61.370625\n",
            "10    18.800194\n",
            "11    28.700294\n",
            "12    26.720276\n",
            "13    28.700296\n",
            "14    49.490504\n",
            "15    55.430564\n",
            "16    24.740256\n",
            "17    58.400595\n",
            "18    18.800196\n",
            "19    18.800194\n",
            "20    21.770224\n",
            "21    25.730266\n",
            "22    40.580414\n",
            "23    45.530464\n",
            "24    50.480514\n",
            "25    54.440554\n",
            "26    23.750244\n",
            "27    46.520474\n",
            "dtype: float64\n",
            "=========================\n"
          ]
        },
        {
          "output_type": "execute_result",
          "data": {
            "text/plain": [
              "0.9999999998695763"
            ]
          },
          "metadata": {},
          "execution_count": 98
        }
      ]
    },
    {
      "cell_type": "code",
      "source": [
        "y_predicted = np.array([1, 1, 0, 0, 1])\n",
        "y_true = np.array([0.3, 0.7, 1, 0, 0.5])\n",
        "\n",
        "print(y_predicted)\n",
        "print(y_true)"
      ],
      "metadata": {
        "id": "AERVez7d2915",
        "colab": {
          "base_uri": "https://localhost:8080/"
        },
        "outputId": "193964fa-e72d-4e10-eb45-71332de1093d"
      },
      "execution_count": 99,
      "outputs": [
        {
          "output_type": "stream",
          "name": "stdout",
          "text": [
            "[1 1 0 0 1]\n",
            "[0.3 0.7 1.  0.  0.5]\n"
          ]
        }
      ]
    },
    {
      "cell_type": "code",
      "source": [
        "def mae(y_true, y_predicted):\n",
        "  mae = np.mean(np.abs(y_predicted - y_true))\n",
        "  return mae"
      ],
      "metadata": {
        "id": "Dv4Vj-7jBZ3G"
      },
      "execution_count": 100,
      "outputs": []
    },
    {
      "cell_type": "code",
      "source": [
        "mae(y_true, y_predicted)"
      ],
      "metadata": {
        "colab": {
          "base_uri": "https://localhost:8080/"
        },
        "id": "c2MafC1mB-nI",
        "outputId": "943310c0-b70f-4d8c-8fc9-174b15a3d489"
      },
      "execution_count": 101,
      "outputs": [
        {
          "output_type": "execute_result",
          "data": {
            "text/plain": [
              "0.5"
            ]
          },
          "metadata": {},
          "execution_count": 101
        }
      ]
    },
    {
      "cell_type": "code",
      "source": [
        "def ll(y_true, y_predicted):\n",
        "  eplison = 1e-15\n",
        "  y_predicted_log_adjusted = [i-eplison if i == 1 else i+eplison for i in y_predicted]\n",
        "  y_predicted_log_adjusted = np.array(y_predicted_log_adjusted)\n",
        "  ll = -np.mean(y_true*np.log(y_predicted_log_adjusted) + (1-y_true)*np.log(1-y_predicted_log_adjusted))\n",
        "  return ll"
      ],
      "metadata": {
        "id": "uhdWKAlFFFP7"
      },
      "execution_count": 102,
      "outputs": []
    },
    {
      "cell_type": "code",
      "source": [
        "ll(y_true, y_predicted)"
      ],
      "metadata": {
        "colab": {
          "base_uri": "https://localhost:8080/"
        },
        "id": "bQzUWWD9Fv_B",
        "outputId": "a75daf95-878c-4f1d-82ad-34e15c8a745e"
      },
      "execution_count": 103,
      "outputs": [
        {
          "output_type": "execute_result",
          "data": {
            "text/plain": [
              "17.2696280766844"
            ]
          },
          "metadata": {},
          "execution_count": 103
        }
      ]
    },
    {
      "cell_type": "code",
      "source": [
        "df.head()"
      ],
      "metadata": {
        "colab": {
          "base_uri": "https://localhost:8080/",
          "height": 206
        },
        "id": "mT87O24nF4Yj",
        "outputId": "1939f041-772d-48d8-875f-d71b4c957acc"
      },
      "execution_count": 104,
      "outputs": [
        {
          "output_type": "execute_result",
          "data": {
            "text/plain": [
              "   age  affordibility  bought_insurance\n",
              "0   22              1                 0\n",
              "1   25              0                 0\n",
              "2   47              1                 1\n",
              "3   52              0                 0\n",
              "4   46              1                 1"
            ],
            "text/html": [
              "\n",
              "  <div id=\"df-2a9eb4fc-f084-4b25-98e9-1a99de452925\" class=\"colab-df-container\">\n",
              "    <div>\n",
              "<style scoped>\n",
              "    .dataframe tbody tr th:only-of-type {\n",
              "        vertical-align: middle;\n",
              "    }\n",
              "\n",
              "    .dataframe tbody tr th {\n",
              "        vertical-align: top;\n",
              "    }\n",
              "\n",
              "    .dataframe thead th {\n",
              "        text-align: right;\n",
              "    }\n",
              "</style>\n",
              "<table border=\"1\" class=\"dataframe\">\n",
              "  <thead>\n",
              "    <tr style=\"text-align: right;\">\n",
              "      <th></th>\n",
              "      <th>age</th>\n",
              "      <th>affordibility</th>\n",
              "      <th>bought_insurance</th>\n",
              "    </tr>\n",
              "  </thead>\n",
              "  <tbody>\n",
              "    <tr>\n",
              "      <th>0</th>\n",
              "      <td>22</td>\n",
              "      <td>1</td>\n",
              "      <td>0</td>\n",
              "    </tr>\n",
              "    <tr>\n",
              "      <th>1</th>\n",
              "      <td>25</td>\n",
              "      <td>0</td>\n",
              "      <td>0</td>\n",
              "    </tr>\n",
              "    <tr>\n",
              "      <th>2</th>\n",
              "      <td>47</td>\n",
              "      <td>1</td>\n",
              "      <td>1</td>\n",
              "    </tr>\n",
              "    <tr>\n",
              "      <th>3</th>\n",
              "      <td>52</td>\n",
              "      <td>0</td>\n",
              "      <td>0</td>\n",
              "    </tr>\n",
              "    <tr>\n",
              "      <th>4</th>\n",
              "      <td>46</td>\n",
              "      <td>1</td>\n",
              "      <td>1</td>\n",
              "    </tr>\n",
              "  </tbody>\n",
              "</table>\n",
              "</div>\n",
              "    <div class=\"colab-df-buttons\">\n",
              "\n",
              "  <div class=\"colab-df-container\">\n",
              "    <button class=\"colab-df-convert\" onclick=\"convertToInteractive('df-2a9eb4fc-f084-4b25-98e9-1a99de452925')\"\n",
              "            title=\"Convert this dataframe to an interactive table.\"\n",
              "            style=\"display:none;\">\n",
              "\n",
              "  <svg xmlns=\"http://www.w3.org/2000/svg\" height=\"24px\" viewBox=\"0 -960 960 960\">\n",
              "    <path d=\"M120-120v-720h720v720H120Zm60-500h600v-160H180v160Zm220 220h160v-160H400v160Zm0 220h160v-160H400v160ZM180-400h160v-160H180v160Zm440 0h160v-160H620v160ZM180-180h160v-160H180v160Zm440 0h160v-160H620v160Z\"/>\n",
              "  </svg>\n",
              "    </button>\n",
              "\n",
              "  <style>\n",
              "    .colab-df-container {\n",
              "      display:flex;\n",
              "      gap: 12px;\n",
              "    }\n",
              "\n",
              "    .colab-df-convert {\n",
              "      background-color: #E8F0FE;\n",
              "      border: none;\n",
              "      border-radius: 50%;\n",
              "      cursor: pointer;\n",
              "      display: none;\n",
              "      fill: #1967D2;\n",
              "      height: 32px;\n",
              "      padding: 0 0 0 0;\n",
              "      width: 32px;\n",
              "    }\n",
              "\n",
              "    .colab-df-convert:hover {\n",
              "      background-color: #E2EBFA;\n",
              "      box-shadow: 0px 1px 2px rgba(60, 64, 67, 0.3), 0px 1px 3px 1px rgba(60, 64, 67, 0.15);\n",
              "      fill: #174EA6;\n",
              "    }\n",
              "\n",
              "    .colab-df-buttons div {\n",
              "      margin-bottom: 4px;\n",
              "    }\n",
              "\n",
              "    [theme=dark] .colab-df-convert {\n",
              "      background-color: #3B4455;\n",
              "      fill: #D2E3FC;\n",
              "    }\n",
              "\n",
              "    [theme=dark] .colab-df-convert:hover {\n",
              "      background-color: #434B5C;\n",
              "      box-shadow: 0px 1px 3px 1px rgba(0, 0, 0, 0.15);\n",
              "      filter: drop-shadow(0px 1px 2px rgba(0, 0, 0, 0.3));\n",
              "      fill: #FFFFFF;\n",
              "    }\n",
              "  </style>\n",
              "\n",
              "    <script>\n",
              "      const buttonEl =\n",
              "        document.querySelector('#df-2a9eb4fc-f084-4b25-98e9-1a99de452925 button.colab-df-convert');\n",
              "      buttonEl.style.display =\n",
              "        google.colab.kernel.accessAllowed ? 'block' : 'none';\n",
              "\n",
              "      async function convertToInteractive(key) {\n",
              "        const element = document.querySelector('#df-2a9eb4fc-f084-4b25-98e9-1a99de452925');\n",
              "        const dataTable =\n",
              "          await google.colab.kernel.invokeFunction('convertToInteractive',\n",
              "                                                    [key], {});\n",
              "        if (!dataTable) return;\n",
              "\n",
              "        const docLinkHtml = 'Like what you see? Visit the ' +\n",
              "          '<a target=\"_blank\" href=https://colab.research.google.com/notebooks/data_table.ipynb>data table notebook</a>'\n",
              "          + ' to learn more about interactive tables.';\n",
              "        element.innerHTML = '';\n",
              "        dataTable['output_type'] = 'display_data';\n",
              "        await google.colab.output.renderOutput(dataTable, element);\n",
              "        const docLink = document.createElement('div');\n",
              "        docLink.innerHTML = docLinkHtml;\n",
              "        element.appendChild(docLink);\n",
              "      }\n",
              "    </script>\n",
              "  </div>\n",
              "\n",
              "\n",
              "<div id=\"df-3bf29f76-ebbf-4353-99fa-83ab78488c9b\">\n",
              "  <button class=\"colab-df-quickchart\" onclick=\"quickchart('df-3bf29f76-ebbf-4353-99fa-83ab78488c9b')\"\n",
              "            title=\"Suggest charts\"\n",
              "            style=\"display:none;\">\n",
              "\n",
              "<svg xmlns=\"http://www.w3.org/2000/svg\" height=\"24px\"viewBox=\"0 0 24 24\"\n",
              "     width=\"24px\">\n",
              "    <g>\n",
              "        <path d=\"M19 3H5c-1.1 0-2 .9-2 2v14c0 1.1.9 2 2 2h14c1.1 0 2-.9 2-2V5c0-1.1-.9-2-2-2zM9 17H7v-7h2v7zm4 0h-2V7h2v10zm4 0h-2v-4h2v4z\"/>\n",
              "    </g>\n",
              "</svg>\n",
              "  </button>\n",
              "\n",
              "<style>\n",
              "  .colab-df-quickchart {\n",
              "      --bg-color: #E8F0FE;\n",
              "      --fill-color: #1967D2;\n",
              "      --hover-bg-color: #E2EBFA;\n",
              "      --hover-fill-color: #174EA6;\n",
              "      --disabled-fill-color: #AAA;\n",
              "      --disabled-bg-color: #DDD;\n",
              "  }\n",
              "\n",
              "  [theme=dark] .colab-df-quickchart {\n",
              "      --bg-color: #3B4455;\n",
              "      --fill-color: #D2E3FC;\n",
              "      --hover-bg-color: #434B5C;\n",
              "      --hover-fill-color: #FFFFFF;\n",
              "      --disabled-bg-color: #3B4455;\n",
              "      --disabled-fill-color: #666;\n",
              "  }\n",
              "\n",
              "  .colab-df-quickchart {\n",
              "    background-color: var(--bg-color);\n",
              "    border: none;\n",
              "    border-radius: 50%;\n",
              "    cursor: pointer;\n",
              "    display: none;\n",
              "    fill: var(--fill-color);\n",
              "    height: 32px;\n",
              "    padding: 0;\n",
              "    width: 32px;\n",
              "  }\n",
              "\n",
              "  .colab-df-quickchart:hover {\n",
              "    background-color: var(--hover-bg-color);\n",
              "    box-shadow: 0 1px 2px rgba(60, 64, 67, 0.3), 0 1px 3px 1px rgba(60, 64, 67, 0.15);\n",
              "    fill: var(--button-hover-fill-color);\n",
              "  }\n",
              "\n",
              "  .colab-df-quickchart-complete:disabled,\n",
              "  .colab-df-quickchart-complete:disabled:hover {\n",
              "    background-color: var(--disabled-bg-color);\n",
              "    fill: var(--disabled-fill-color);\n",
              "    box-shadow: none;\n",
              "  }\n",
              "\n",
              "  .colab-df-spinner {\n",
              "    border: 2px solid var(--fill-color);\n",
              "    border-color: transparent;\n",
              "    border-bottom-color: var(--fill-color);\n",
              "    animation:\n",
              "      spin 1s steps(1) infinite;\n",
              "  }\n",
              "\n",
              "  @keyframes spin {\n",
              "    0% {\n",
              "      border-color: transparent;\n",
              "      border-bottom-color: var(--fill-color);\n",
              "      border-left-color: var(--fill-color);\n",
              "    }\n",
              "    20% {\n",
              "      border-color: transparent;\n",
              "      border-left-color: var(--fill-color);\n",
              "      border-top-color: var(--fill-color);\n",
              "    }\n",
              "    30% {\n",
              "      border-color: transparent;\n",
              "      border-left-color: var(--fill-color);\n",
              "      border-top-color: var(--fill-color);\n",
              "      border-right-color: var(--fill-color);\n",
              "    }\n",
              "    40% {\n",
              "      border-color: transparent;\n",
              "      border-right-color: var(--fill-color);\n",
              "      border-top-color: var(--fill-color);\n",
              "    }\n",
              "    60% {\n",
              "      border-color: transparent;\n",
              "      border-right-color: var(--fill-color);\n",
              "    }\n",
              "    80% {\n",
              "      border-color: transparent;\n",
              "      border-right-color: var(--fill-color);\n",
              "      border-bottom-color: var(--fill-color);\n",
              "    }\n",
              "    90% {\n",
              "      border-color: transparent;\n",
              "      border-bottom-color: var(--fill-color);\n",
              "    }\n",
              "  }\n",
              "</style>\n",
              "\n",
              "  <script>\n",
              "    async function quickchart(key) {\n",
              "      const quickchartButtonEl =\n",
              "        document.querySelector('#' + key + ' button');\n",
              "      quickchartButtonEl.disabled = true;  // To prevent multiple clicks.\n",
              "      quickchartButtonEl.classList.add('colab-df-spinner');\n",
              "      try {\n",
              "        const charts = await google.colab.kernel.invokeFunction(\n",
              "            'suggestCharts', [key], {});\n",
              "      } catch (error) {\n",
              "        console.error('Error during call to suggestCharts:', error);\n",
              "      }\n",
              "      quickchartButtonEl.classList.remove('colab-df-spinner');\n",
              "      quickchartButtonEl.classList.add('colab-df-quickchart-complete');\n",
              "    }\n",
              "    (() => {\n",
              "      let quickchartButtonEl =\n",
              "        document.querySelector('#df-3bf29f76-ebbf-4353-99fa-83ab78488c9b button');\n",
              "      quickchartButtonEl.style.display =\n",
              "        google.colab.kernel.accessAllowed ? 'block' : 'none';\n",
              "    })();\n",
              "  </script>\n",
              "</div>\n",
              "\n",
              "    </div>\n",
              "  </div>\n"
            ],
            "application/vnd.google.colaboratory.intrinsic+json": {
              "type": "dataframe",
              "variable_name": "df",
              "summary": "{\n  \"name\": \"df\",\n  \"rows\": 28,\n  \"fields\": [\n    {\n      \"column\": \"age\",\n      \"properties\": {\n        \"dtype\": \"number\",\n        \"std\": 15,\n        \"min\": 18,\n        \"max\": 62,\n        \"num_unique_values\": 24,\n        \"samples\": [\n          62,\n          19,\n          22\n        ],\n        \"semantic_type\": \"\",\n        \"description\": \"\"\n      }\n    },\n    {\n      \"column\": \"affordibility\",\n      \"properties\": {\n        \"dtype\": \"number\",\n        \"std\": 0,\n        \"min\": 0,\n        \"max\": 1,\n        \"num_unique_values\": 2,\n        \"samples\": [\n          0,\n          1\n        ],\n        \"semantic_type\": \"\",\n        \"description\": \"\"\n      }\n    },\n    {\n      \"column\": \"bought_insurance\",\n      \"properties\": {\n        \"dtype\": \"number\",\n        \"std\": 0,\n        \"min\": 0,\n        \"max\": 1,\n        \"num_unique_values\": 2,\n        \"samples\": [\n          1,\n          0\n        ],\n        \"semantic_type\": \"\",\n        \"description\": \"\"\n      }\n    }\n  ]\n}"
            }
          },
          "metadata": {},
          "execution_count": 104
        }
      ]
    },
    {
      "cell_type": "code",
      "source": [
        "# developing gradient descent method from scratch\n",
        "# use functions ll() and sigmoidnp()"
      ],
      "metadata": {
        "id": "04NC3CauBThf"
      },
      "execution_count": 105,
      "outputs": []
    },
    {
      "cell_type": "code",
      "source": [
        "def gradient_descent(age, affordibility, y_true, epochs):\n",
        "  w1 = w2 = 1\n",
        "  b = 0\n",
        "  learning_rate = 0.5\n",
        "  n = len(age)\n",
        "\n",
        "  for i in range(epochs):\n",
        "    weighted_sum = w1 * age + w2 * affordibility + b\n",
        "    y_predicted = sigmoidnp(weighted_sum)\n",
        "    loss = ll(y_true, y_predicted)\n",
        "\n",
        "    w1 = w1 - learning_rate*(1/n)*np.dot(np.transpose(age), (y_predicted-y_true))\n",
        "    w2 = w2 - learning_rate*(1/n)*np.dot(np.transpose(affordibility), (y_predicted-y_true))\n",
        "    b = b - learning_rate*np.mean(y_predicted-y_true)\n",
        "\n",
        "    print(f\"Epoch {i} w1:{w1}, w2:{w2}, b:{b}\")\n",
        "\n",
        "  return w1, w2, b"
      ],
      "metadata": {
        "id": "zwHxTBHvBWwI"
      },
      "execution_count": 106,
      "outputs": []
    },
    {
      "cell_type": "code",
      "source": [
        "gradient_descent(X_train_scaled['age'], X_train_scaled['affordibility'], y_train, 5)"
      ],
      "metadata": {
        "colab": {
          "base_uri": "https://localhost:8080/"
        },
        "id": "PxwGn-VbNNN6",
        "outputId": "63eca676-3920-4977-c73e-1ef56554402c"
      },
      "execution_count": 107,
      "outputs": [
        {
          "output_type": "stream",
          "name": "stdout",
          "text": [
            "Epoch 0 w1:0.974907633470177, w2:0.948348125394529, b:-0.11341867736368583\n",
            "Epoch 1 w1:0.9556229728273669, w2:0.9058873696677865, b:-0.2122349122718517\n",
            "Epoch 2 w1:0.9416488476693794, w2:0.8719790823960313, b:-0.2977578997796538\n",
            "Epoch 3 w1:0.9323916996249162, w2:0.8457541517722915, b:-0.3715094724003511\n",
            "Epoch 4 w1:0.9272267472726993, w2:0.8262362885332687, b:-0.43506643026891584\n"
          ]
        },
        {
          "output_type": "execute_result",
          "data": {
            "text/plain": [
              "(0.9272267472726993, 0.8262362885332687, -0.43506643026891584)"
            ]
          },
          "metadata": {},
          "execution_count": 107
        }
      ]
    },
    {
      "cell_type": "code",
      "source": [
        "### implement a simple neural network with single neuron from scratch in python"
      ],
      "metadata": {
        "id": "pIAmKiD8NZNp"
      },
      "execution_count": 108,
      "outputs": []
    },
    {
      "cell_type": "code",
      "source": [
        "class MyNN():\n",
        "  def __init__(self):\n",
        "    self.w1 = 1\n",
        "    self.w2 = 1\n",
        "    self.b = 0\n",
        "\n",
        "  def gradient_descent(self, age, affordibility, y_true, epochs):\n",
        "      w1 = w2 = 1\n",
        "      b = 0\n",
        "      learning_rate = 0.5\n",
        "      n = len(age)\n",
        "\n",
        "      for i in range(epochs):\n",
        "        weighted_sum = w1 * age + w2 * affordibility + b\n",
        "        y_predicted = sigmoidnp(weighted_sum)\n",
        "        loss = ll(y_true, y_predicted)\n",
        "\n",
        "        w1 = w1 - learning_rate*(1/n)*np.dot(np.transpose(age), (y_predicted-y_true))\n",
        "        w2 = w2 - learning_rate*(1/n)*np.dot(np.transpose(affordibility), (y_predicted-y_true))\n",
        "        b = b - learning_rate*np.mean(y_predicted-y_true)\n",
        "        if i%50 == 0:\n",
        "          print(f\"Epoch {i} w1:{w1}, w2:{w2}, b:{b}\")\n",
        "\n",
        "      return w1, w2, b\n",
        "\n",
        "\n",
        "  def fit(self, X, y, epochs):\n",
        "    self.w1, self.w2, self.b = self.gradient_descent(X['age'], X['affordibility'], y, epochs)\n",
        "\n",
        "  def predict(self, X_test):\n",
        "    weighted_sum = self.w1 * X_test['age'] + self.w2 * X_test['affordibility'] + self.b\n",
        "    return sigmoidnp(weighted_sum)"
      ],
      "metadata": {
        "id": "0ngZl6i9aomJ"
      },
      "execution_count": 109,
      "outputs": []
    },
    {
      "cell_type": "code",
      "source": [
        "nn1 = MyNN()\n",
        "nn1.gradient_descent(X_train_scaled['age'], X_train_scaled['affordibility'], y_train, 500)"
      ],
      "metadata": {
        "id": "oGuYHdcmgp-j",
        "outputId": "8b11104e-f00e-4bfc-a57d-5fb2a5cb2964",
        "colab": {
          "base_uri": "https://localhost:8080/"
        }
      },
      "execution_count": 110,
      "outputs": [
        {
          "output_type": "stream",
          "name": "stdout",
          "text": [
            "Epoch 0 w1:0.974907633470177, w2:0.948348125394529, b:-0.11341867736368583\n",
            "Epoch 50 w1:1.503319554173139, w2:1.108384790367645, b:-1.2319047301235464\n",
            "Epoch 100 w1:2.200713131760032, w2:1.2941584023238903, b:-1.6607009122062801\n",
            "Epoch 150 w1:2.8495727769689085, w2:1.3696895491572745, b:-1.986105845859897\n",
            "Epoch 200 w1:3.443016970881803, w2:1.4042218624465033, b:-2.2571369883752723\n",
            "Epoch 250 w1:3.982450494649576, w2:1.4239127329321233, b:-2.494377365971801\n",
            "Epoch 300 w1:4.472179522095915, w2:1.438787986553552, b:-2.707387811922373\n",
            "Epoch 350 w1:4.917245868007634, w2:1.4525660781176122, b:-2.901176333556766\n",
            "Epoch 400 w1:5.3225621674147305, w2:1.4664810071905663, b:-3.0787595797907787\n",
            "Epoch 450 w1:5.69260053360137, w2:1.4808112468106691, b:-3.2422158903641174\n"
          ]
        },
        {
          "output_type": "execute_result",
          "data": {
            "text/plain": [
              "(6.024824541704677, 1.4951977646383716, -3.3902289297526247)"
            ]
          },
          "metadata": {},
          "execution_count": 110
        }
      ]
    },
    {
      "cell_type": "code",
      "source": [
        "nn1.fit(X_train_scaled, y_train, epochs=500)"
      ],
      "metadata": {
        "id": "saHG2PFYJm70",
        "outputId": "0e5f8fda-4300-47dd-a82f-1674edb0c1a5",
        "colab": {
          "base_uri": "https://localhost:8080/"
        }
      },
      "execution_count": 111,
      "outputs": [
        {
          "output_type": "stream",
          "name": "stdout",
          "text": [
            "Epoch 0 w1:0.974907633470177, w2:0.948348125394529, b:-0.11341867736368583\n",
            "Epoch 50 w1:1.503319554173139, w2:1.108384790367645, b:-1.2319047301235464\n",
            "Epoch 100 w1:2.200713131760032, w2:1.2941584023238903, b:-1.6607009122062801\n",
            "Epoch 150 w1:2.8495727769689085, w2:1.3696895491572745, b:-1.986105845859897\n",
            "Epoch 200 w1:3.443016970881803, w2:1.4042218624465033, b:-2.2571369883752723\n",
            "Epoch 250 w1:3.982450494649576, w2:1.4239127329321233, b:-2.494377365971801\n",
            "Epoch 300 w1:4.472179522095915, w2:1.438787986553552, b:-2.707387811922373\n",
            "Epoch 350 w1:4.917245868007634, w2:1.4525660781176122, b:-2.901176333556766\n",
            "Epoch 400 w1:5.3225621674147305, w2:1.4664810071905663, b:-3.0787595797907787\n",
            "Epoch 450 w1:5.69260053360137, w2:1.4808112468106691, b:-3.2422158903641174\n"
          ]
        }
      ]
    },
    {
      "cell_type": "code",
      "source": [
        "nn1.predict(X_test_scaled)"
      ],
      "metadata": {
        "id": "Imqw-5-jMUNB",
        "outputId": "62e95135-4c60-40f9-99d4-cf62af91f5c3",
        "colab": {
          "base_uri": "https://localhost:8080/",
          "height": 272
        }
      },
      "execution_count": 112,
      "outputs": [
        {
          "output_type": "execute_result",
          "data": {
            "text/plain": [
              "2     0.718420\n",
              "10    0.307771\n",
              "21    0.138982\n",
              "11    0.448167\n",
              "14    0.742142\n",
              "9     0.855711\n",
              "dtype: float64"
            ],
            "text/html": [
              "<div>\n",
              "<style scoped>\n",
              "    .dataframe tbody tr th:only-of-type {\n",
              "        vertical-align: middle;\n",
              "    }\n",
              "\n",
              "    .dataframe tbody tr th {\n",
              "        vertical-align: top;\n",
              "    }\n",
              "\n",
              "    .dataframe thead th {\n",
              "        text-align: right;\n",
              "    }\n",
              "</style>\n",
              "<table border=\"1\" class=\"dataframe\">\n",
              "  <thead>\n",
              "    <tr style=\"text-align: right;\">\n",
              "      <th></th>\n",
              "      <th>0</th>\n",
              "    </tr>\n",
              "  </thead>\n",
              "  <tbody>\n",
              "    <tr>\n",
              "      <th>2</th>\n",
              "      <td>0.718420</td>\n",
              "    </tr>\n",
              "    <tr>\n",
              "      <th>10</th>\n",
              "      <td>0.307771</td>\n",
              "    </tr>\n",
              "    <tr>\n",
              "      <th>21</th>\n",
              "      <td>0.138982</td>\n",
              "    </tr>\n",
              "    <tr>\n",
              "      <th>11</th>\n",
              "      <td>0.448167</td>\n",
              "    </tr>\n",
              "    <tr>\n",
              "      <th>14</th>\n",
              "      <td>0.742142</td>\n",
              "    </tr>\n",
              "    <tr>\n",
              "      <th>9</th>\n",
              "      <td>0.855711</td>\n",
              "    </tr>\n",
              "  </tbody>\n",
              "</table>\n",
              "</div><br><label><b>dtype:</b> float64</label>"
            ]
          },
          "metadata": {},
          "execution_count": 112
        }
      ]
    },
    {
      "cell_type": "code",
      "source": [],
      "metadata": {
        "id": "DKsrXZSnNT4e"
      },
      "execution_count": 112,
      "outputs": []
    }
  ]
}