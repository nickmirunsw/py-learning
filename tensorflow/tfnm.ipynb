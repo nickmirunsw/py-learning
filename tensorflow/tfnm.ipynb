{
  "nbformat": 4,
  "nbformat_minor": 0,
  "metadata": {
    "colab": {
      "provenance": [],
      "authorship_tag": "ABX9TyP7elkgrMz/T+sG1VaG9d/e",
      "include_colab_link": true
    },
    "kernelspec": {
      "name": "python3",
      "display_name": "Python 3"
    },
    "language_info": {
      "name": "python"
    }
  },
  "cells": [
    {
      "cell_type": "markdown",
      "metadata": {
        "id": "view-in-github",
        "colab_type": "text"
      },
      "source": [
        "<a href=\"https://colab.research.google.com/github/nickmirunsw/py-learning/blob/main/tensorflow/tfnm.ipynb\" target=\"_parent\"><img src=\"https://colab.research.google.com/assets/colab-badge.svg\" alt=\"Open In Colab\"/></a>"
      ]
    },
    {
      "cell_type": "code",
      "execution_count": 4,
      "metadata": {
        "id": "YtauEeEcEn0I"
      },
      "outputs": [],
      "source": [
        "# chatgpt cheatsheet and example\n",
        "\n",
        "# import tensorflow as tf\n",
        "# import numpy as np\n",
        "# import matplotlib.pyplot as plt\n",
        "\n",
        "# # 1. Core TensorFlow Operations\n",
        "# print(\"\\n### Core TensorFlow Operations ###\")\n",
        "# constant_tensor = tf.constant([1, 2, 3], dtype=tf.float32, name=\"my_constant\")\n",
        "# variable_tensor = tf.Variable(initial_value=[4, 5, 6], trainable=True, dtype=tf.float32, name=\"my_variable\")\n",
        "\n",
        "# print(\"Constant:\", constant_tensor.numpy())\n",
        "# print(\"Variable:\", variable_tensor.numpy())\n",
        "\n",
        "# # 2. Keras Model Building\n",
        "# print(\"\\n### Keras Model Building ###\")\n",
        "# model = tf.keras.Sequential([\n",
        "#     tf.keras.layers.Dense(units=128, activation='relu', input_shape=(64,), name=\"dense_1\"),\n",
        "#     tf.keras.layers.BatchNormalization(name=\"batch_norm_1\"),\n",
        "#     tf.keras.layers.Dropout(rate=0.2, name=\"dropout_1\"),\n",
        "#     tf.keras.layers.Dense(units=64, activation='relu', name=\"dense_2\"),\n",
        "#     tf.keras.layers.BatchNormalization(name=\"batch_norm_2\"),\n",
        "#     tf.keras.layers.Dense(units=10, activation='softmax', name=\"output\")\n",
        "# ], name=\"sequential_model\")\n",
        "\n",
        "# model.summary()\n",
        "\n",
        "# # 3. Model Compilation\n",
        "# print(\"\\n### Model Compilation ###\")\n",
        "# model.compile(\n",
        "#     optimizer=tf.keras.optimizers.Adam(learning_rate=0.001),\n",
        "#     loss=tf.keras.losses.CategoricalCrossentropy(),\n",
        "#     metrics=['accuracy']\n",
        "# )\n",
        "\n",
        "# # 4. Data Preprocessing\n",
        "# print(\"\\n### Data Preprocessing ###\")\n",
        "# x_train = np.random.rand(1000, 64)  # Dummy training data (1000 samples, 64 features)\n",
        "# y_train = tf.keras.utils.to_categorical(np.random.randint(0, 10, size=(1000,)), num_classes=10)\n",
        "\n",
        "# x_val = np.random.rand(200, 64)  # Validation data\n",
        "# y_val = tf.keras.utils.to_categorical(np.random.randint(0, 10, size=(200,)), num_classes=10)\n",
        "\n",
        "# # Normalize data (common preprocessing step)\n",
        "# x_train = (x_train - np.mean(x_train)) / np.std(x_train)\n",
        "# x_val = (x_val - np.mean(x_val)) / np.std(x_val)\n",
        "\n",
        "# # 5. Model Training with Callbacks\n",
        "# print(\"\\n### Model Training ###\")\n",
        "# early_stopping = tf.keras.callbacks.EarlyStopping(\n",
        "#     monitor='val_loss', patience=3, restore_best_weights=True, verbose=1\n",
        "# )\n",
        "# history = model.fit(\n",
        "#     x=x_train,\n",
        "#     y=y_train,\n",
        "#     validation_data=(x_val, y_val),\n",
        "#     epochs=20,\n",
        "#     batch_size=32,\n",
        "#     callbacks=[early_stopping],\n",
        "#     verbose=1\n",
        "# )\n",
        "\n",
        "# # 6. Visualizing Training History\n",
        "# print(\"\\n### Visualizing Training History ###\")\n",
        "# plt.figure(figsize=(12, 4))\n",
        "# plt.subplot(1, 2, 1)\n",
        "# plt.plot(history.history['loss'], label='Training Loss')\n",
        "# plt.plot(history.history['val_loss'], label='Validation Loss')\n",
        "# plt.title('Loss Over Epochs')\n",
        "# plt.xlabel('Epochs')\n",
        "# plt.ylabel('Loss')\n",
        "# plt.legend()\n",
        "\n",
        "# plt.subplot(1, 2, 2)\n",
        "# plt.plot(history.history['accuracy'], label='Training Accuracy')\n",
        "# plt.plot(history.history['val_accuracy'], label='Validation Accuracy')\n",
        "# plt.title('Accuracy Over Epochs')\n",
        "# plt.xlabel('Epochs')\n",
        "# plt.ylabel('Accuracy')\n",
        "# plt.legend()\n",
        "# plt.show()\n",
        "\n",
        "# # 7. Model Evaluation\n",
        "# print(\"\\n### Model Evaluation ###\")\n",
        "# loss, accuracy = model.evaluate(x_val, y_val, verbose=1)\n",
        "# print(f\"Validation Loss: {loss:.4f}, Validation Accuracy: {accuracy:.4f}\")\n",
        "\n",
        "# # 8. Model Prediction\n",
        "# print(\"\\n### Model Prediction ###\")\n",
        "# predictions = model.predict(x_val[:5])\n",
        "# print(\"Predictions (softmax probabilities):\", predictions)\n",
        "\n",
        "# # 9. Transfer Learning with Pretrained Models\n",
        "# print(\"\\n### Transfer Learning ###\")\n",
        "# base_model = tf.keras.applications.MobileNetV2(\n",
        "#     input_shape=(128, 128, 3),\n",
        "#     include_top=False,\n",
        "#     weights='imagenet'\n",
        "# )\n",
        "# base_model.trainable = False\n",
        "\n",
        "# transfer_model = tf.keras.Sequential([\n",
        "#     tf.keras.layers.InputLayer(input_shape=(128, 128, 3)),\n",
        "#     base_model,\n",
        "#     tf.keras.layers.GlobalAveragePooling2D(),\n",
        "#     tf.keras.layers.Dense(10, activation='softmax')\n",
        "# ])\n",
        "\n",
        "# transfer_model.compile(\n",
        "#     optimizer=tf.keras.optimizers.Adam(),\n",
        "#     loss='categorical_crossentropy',\n",
        "#     metrics=['accuracy']\n",
        "# )\n",
        "# transfer_model.summary()\n",
        "\n",
        "# # Dummy image data\n",
        "# x_train_images = np.random.rand(100, 128, 128, 3)  # 100 RGB images of size 128x128\n",
        "# y_train_images = tf.keras.utils.to_categorical(np.random.randint(0, 10, size=(100,)), num_classes=10)\n",
        "\n",
        "# x_val_images = np.random.rand(20, 128, 128, 3)\n",
        "# y_val_images = tf.keras.utils.to_categorical(np.random.randint(0, 10, size=(20,)), num_classes=10)\n",
        "\n",
        "# # Train transfer learning model\n",
        "# transfer_model.fit(\n",
        "#     x=x_train_images,\n",
        "#     y=y_train_images,\n",
        "#     validation_data=(x_val_images, y_val_images),\n",
        "#     epochs=5,\n",
        "#     batch_size=16\n",
        "# )\n",
        "\n",
        "# # 10. Model Saving and Loading\n",
        "# print(\"\\n### Model Saving and Loading ###\")\n",
        "# model.save(\"my_model.h5\")\n",
        "# loaded_model = tf.keras.models.load_model(\"my_model.h5\")\n",
        "# print(\"Model loaded successfully!\")\n",
        "\n",
        "# # 11. TensorFlow Dataset API\n",
        "# print(\"\\n### TensorFlow Dataset API ###\")\n",
        "# dataset = tf.data.Dataset.from_tensor_slices((x_train, y_train))\n",
        "# dataset = dataset.shuffle(buffer_size=100).batch(32).prefetch(tf.data.AUTOTUNE)\n",
        "\n",
        "# for batch in dataset.take(1):\n",
        "#     print(\"A batch of data:\", batch)\n",
        "\n",
        "# # 12. Advanced TensorFlow Features: Gradient Tape\n",
        "# print(\"\\n### Gradient Tape ###\")\n",
        "# x = tf.constant(3.0)\n",
        "# y = tf.constant(4.0)\n",
        "\n",
        "# with tf.GradientTape() as tape:\n",
        "#     tape.watch(x)\n",
        "#     z = x ** 2 + y ** 2\n",
        "# gradients = tape.gradient(z, x)\n",
        "# print(\"Gradient of z with respect to x:\", gradients.numpy())\n"
      ]
    },
    {
      "cell_type": "code",
      "source": [
        "from ast import increment_lineno\n",
        "import tensorflow as tf\n",
        "from tensorflow import keras\n",
        "import matplotlib.pyplot as plt\n",
        "%matplotlib inline\n",
        "import numpy as np"
      ],
      "metadata": {
        "id": "2m_vKmYbEtd6"
      },
      "execution_count": 39,
      "outputs": []
    },
    {
      "cell_type": "code",
      "source": [
        "(x_train, y_train) , (x_test, y_test) = keras.datasets.mnist.load_data()"
      ],
      "metadata": {
        "id": "RJthIZjVzIAQ"
      },
      "execution_count": 7,
      "outputs": []
    },
    {
      "cell_type": "code",
      "source": [
        "print(f\"x_train --> Shape:{x_train.shape} Length:{len(x_train)}\")\n",
        "print(\"=============\")\n",
        "print(f\"x_train --> Shape:{y_train.shape} Length:{len(y_train)}\")\n",
        "print(\"=============\")\n",
        "print(f\"x_test -->  Shape:{x_test.shape} Length:{len(x_test)}\")\n",
        "print(\"=============\")\n",
        "print(f\"y_test -->  Shape:{y_test.shape} Length:{len(y_test)}\")\n",
        "print(\"=============\")\n",
        "print(x_train[0].shape)\n",
        "print(\"=============\")\n",
        "print(y_train[0])\n",
        "print(\"=============\")\n",
        "print(x_test[0].shape)\n",
        "print(\"=============\")\n",
        "print(y_test[0])\n",
        "print(\"=============\")\n",
        "# print(x_train[0])"
      ],
      "metadata": {
        "id": "kv6AMSpPzLrR",
        "outputId": "bbabfc93-9c09-4300-d7fd-1ec738290b5b",
        "colab": {
          "base_uri": "https://localhost:8080/"
        }
      },
      "execution_count": 26,
      "outputs": [
        {
          "output_type": "stream",
          "name": "stdout",
          "text": [
            "x_train --> Shape:(60000, 28, 28) Length:60000\n",
            "=============\n",
            "x_train --> Shape:(60000,) Length:60000\n",
            "=============\n",
            "x_test -->  Shape:(10000, 28, 28) Length:10000\n",
            "=============\n",
            "y_test -->  Shape:(10000,) Length:10000\n",
            "=============\n",
            "(28, 28)\n",
            "=============\n",
            "5\n",
            "=============\n",
            "(28, 28)\n",
            "=============\n",
            "7\n",
            "=============\n"
          ]
        }
      ]
    },
    {
      "cell_type": "code",
      "source": [
        "plt.matshow(x_train[2])"
      ],
      "metadata": {
        "id": "QC4NzYdA0rfg",
        "outputId": "db1670e4-336d-4669-a978-f3eab840a1a1",
        "colab": {
          "base_uri": "https://localhost:8080/",
          "height": 454
        }
      },
      "execution_count": 28,
      "outputs": [
        {
          "output_type": "execute_result",
          "data": {
            "text/plain": [
              "<matplotlib.image.AxesImage at 0x79d94d215d80>"
            ]
          },
          "metadata": {},
          "execution_count": 28
        },
        {
          "output_type": "display_data",
          "data": {
            "text/plain": [
              "<Figure size 480x480 with 1 Axes>"
            ],
            "image/png": "[encoded data removed]"
          },
          "metadata": {}
        }
      ]
    },
    {
      "cell_type": "code",
      "source": [
        "x_train = x_train/255\n",
        "x_test = x_test/255"
      ],
      "metadata": {
        "id": "VVy8YxmOCXL_"
      },
      "execution_count": 46,
      "outputs": []
    },
    {
      "cell_type": "code",
      "source": [
        "x_train_flattened = x_train.reshape((60000, 28*28))\n",
        "x_test_flattened = x_test.reshape((10000, 28*28))\n",
        "print(x_train_flattened.shape)\n",
        "print(x_test_flattened.shape)"
      ],
      "metadata": {
        "id": "g2e8Dw5I9UwT",
        "outputId": "3047fa25-cc15-4278-8f1e-82a9bfa61acd",
        "colab": {
          "base_uri": "https://localhost:8080/"
        }
      },
      "execution_count": 47,
      "outputs": [
        {
          "output_type": "stream",
          "name": "stdout",
          "text": [
            "(60000, 784)\n",
            "(10000, 784)\n"
          ]
        }
      ]
    },
    {
      "cell_type": "code",
      "source": [
        "model = keras.Sequential([keras.layers.Dense(10, input_shape=(784,), activation=\"sigmoid\")])\n",
        "model.compile(optimizer='adam', loss='sparse_categorical_crossentropy', metrics=['accuracy'])\n",
        "model.fit(x_train_flattened, y_train, epochs=5)"
      ],
      "metadata": {
        "id": "P7oNpxTT9hx8",
        "outputId": "480b212b-1075-41a9-e3f4-2e280f7f48fb",
        "colab": {
          "base_uri": "https://localhost:8080/"
        }
      },
      "execution_count": 48,
      "outputs": [
        {
          "output_type": "stream",
          "name": "stderr",
          "text": [
            "/usr/local/lib/python3.10/dist-packages/keras/src/layers/core/dense.py:87: UserWarning: Do not pass an `input_shape`/`input_dim` argument to a layer. When using Sequential models, prefer using an `Input(shape)` object as the first layer in the model instead.\n",
            "  super().__init__(activity_regularizer=activity_regularizer, **kwargs)\n"
          ]
        },
        {
          "output_type": "stream",
          "name": "stdout",
          "text": [
            "Epoch 1/5\n",
            "\u001b[1m1875/1875\u001b[0m \u001b[32m━━━━━━━━━━━━━━━━━━━━\u001b[0m\u001b[37m\u001b[0m \u001b[1m3s\u001b[0m 1ms/step - accuracy: 0.8168 - loss: 0.7127\n",
            "Epoch 2/5\n",
            "\u001b[1m1875/1875\u001b[0m \u001b[32m━━━━━━━━━━━━━━━━━━━━\u001b[0m\u001b[37m\u001b[0m \u001b[1m6s\u001b[0m 2ms/step - accuracy: 0.9141 - loss: 0.3076\n",
            "Epoch 3/5\n",
            "\u001b[1m1875/1875\u001b[0m \u001b[32m━━━━━━━━━━━━━━━━━━━━\u001b[0m\u001b[37m\u001b[0m \u001b[1m3s\u001b[0m 2ms/step - accuracy: 0.9202 - loss: 0.2839\n",
            "Epoch 4/5\n",
            "\u001b[1m1875/1875\u001b[0m \u001b[32m━━━━━━━━━━━━━━━━━━━━\u001b[0m\u001b[37m\u001b[0m \u001b[1m3s\u001b[0m 1ms/step - accuracy: 0.9235 - loss: 0.2711\n",
            "Epoch 5/5\n",
            "\u001b[1m1875/1875\u001b[0m \u001b[32m━━━━━━━━━━━━━━━━━━━━\u001b[0m\u001b[37m\u001b[0m \u001b[1m3s\u001b[0m 1ms/step - accuracy: 0.9246 - loss: 0.2676\n"
          ]
        },
        {
          "output_type": "execute_result",
          "data": {
            "text/plain": [
              "<keras.src.callbacks.history.History at 0x79d94d0407c0>"
            ]
          },
          "metadata": {},
          "execution_count": 48
        }
      ]
    },
    {
      "cell_type": "code",
      "source": [
        "model.evaluate(x_test_flattened, y_test)"
      ],
      "metadata": {
        "id": "o4zoRoc1_KoP",
        "outputId": "5aaad4fa-9dbb-4f5d-aa64-19ab2705f056",
        "colab": {
          "base_uri": "https://localhost:8080/"
        }
      },
      "execution_count": 49,
      "outputs": [
        {
          "output_type": "stream",
          "name": "stdout",
          "text": [
            "\u001b[1m313/313\u001b[0m \u001b[32m━━━━━━━━━━━━━━━━━━━━\u001b[0m\u001b[37m\u001b[0m \u001b[1m1s\u001b[0m 1ms/step - accuracy: 0.9121 - loss: 0.3043\n"
          ]
        },
        {
          "output_type": "execute_result",
          "data": {
            "text/plain": [
              "[0.2711487412452698, 0.9229000210762024]"
            ]
          },
          "metadata": {},
          "execution_count": 49
        }
      ]
    },
    {
      "cell_type": "code",
      "source": [
        "plt.matshow(x_test[0])"
      ],
      "metadata": {
        "id": "0g7y1uivC04x",
        "outputId": "b909be06-2db6-43f8-f597-475c2b35a0ae",
        "colab": {
          "base_uri": "https://localhost:8080/",
          "height": 454
        }
      },
      "execution_count": 50,
      "outputs": [
        {
          "output_type": "execute_result",
          "data": {
            "text/plain": [
              "<matplotlib.image.AxesImage at 0x79d94cc85810>"
            ]
          },
          "metadata": {},
          "execution_count": 50
        },
        {
          "output_type": "display_data",
          "data": {
            "text/plain": [
              "<Figure size 480x480 with 1 Axes>"
            ],
            "image/png": "[encoded data removed]"
          },
          "metadata": {}
        }
      ]
    },
    {
      "cell_type": "code",
      "source": [
        "y_predicted = model.predict(x_test_flattened)"
      ],
      "metadata": {
        "id": "NCZ-G_odDG6l",
        "outputId": "a5aeae30-a37d-473c-ac38-38cc2accc04e",
        "colab": {
          "base_uri": "https://localhost:8080/"
        }
      },
      "execution_count": 57,
      "outputs": [
        {
          "output_type": "stream",
          "name": "stdout",
          "text": [
            "\u001b[1m313/313\u001b[0m \u001b[32m━━━━━━━━━━━━━━━━━━━━\u001b[0m\u001b[37m\u001b[0m \u001b[1m0s\u001b[0m 1ms/step\n"
          ]
        }
      ]
    },
    {
      "cell_type": "code",
      "source": [
        "print(np.argmax(y_predicted[0]))"
      ],
      "metadata": {
        "id": "-cFve3vkDMnH",
        "outputId": "d5df7a6e-5be0-4318-e13e-0f38e1e746da",
        "colab": {
          "base_uri": "https://localhost:8080/"
        }
      },
      "execution_count": 59,
      "outputs": [
        {
          "output_type": "stream",
          "name": "stdout",
          "text": [
            "7\n"
          ]
        }
      ]
    },
    {
      "cell_type": "code",
      "source": [
        "y_predicted_labels = [np.argmax(i) for i in y_predicted]"
      ],
      "metadata": {
        "id": "OJYsTDeCDaM2"
      },
      "execution_count": 60,
      "outputs": []
    },
    {
      "cell_type": "code",
      "source": [
        "cm = tf.math.confusion_matrix(labels=y_test, predictions=y_predicted_labels)\n",
        "print(cm)"
      ],
      "metadata": {
        "id": "fe5oBB0KEOl6",
        "outputId": "bf15eb61-2e16-4cdb-b525-bf83e40fb63b",
        "colab": {
          "base_uri": "https://localhost:8080/"
        }
      },
      "execution_count": 63,
      "outputs": [
        {
          "output_type": "stream",
          "name": "stdout",
          "text": [
            "tf.Tensor(\n",
            "[[ 967    0    1    2    0    5    2    2    1    0]\n",
            " [   0 1117    3    3    0    1    3    2    6    0]\n",
            " [   5    8  930   15   10    4   11   10   35    4]\n",
            " [   4    0   20  920    1   25    2   12   21    5]\n",
            " [   2    1    4    1  936    0    8    3    7   20]\n",
            " [  10    2    5   35   11  787    9    4   26    3]\n",
            " [  15    3    9    1   12   15  899    2    2    0]\n",
            " [   1    7   22    9   10    1    0  954    2   22]\n",
            " [   7   10    8   27   10   41    9   10  847    5]\n",
            " [  11    7    1   10   60   12    0   28    8  872]], shape=(10, 10), dtype=int32)\n"
          ]
        }
      ]
    },
    {
      "cell_type": "code",
      "source": [
        "import seaborn as sns\n",
        "plt.figure(figsize = (10,7))\n",
        "sns.heatmap(cm, annot=True, fmt='d')\n",
        "plt.xlabel(\"Predicted\")\n",
        "plt.ylabel(\"Truth\")"
      ],
      "metadata": {
        "id": "_KtLF_kuFE2h",
        "outputId": "b0773c9c-3fd2-4554-afec-dc62f8e3f05e",
        "colab": {
          "base_uri": "https://localhost:8080/",
          "height": 636
        }
      },
      "execution_count": 64,
      "outputs": [
        {
          "output_type": "execute_result",
          "data": {
            "text/plain": [
              "Text(95.72222222222221, 0.5, 'Truth')"
            ]
          },
          "metadata": {},
          "execution_count": 64
        },
        {
          "output_type": "display_data",
          "data": {
            "text/plain": [
              "<Figure size 1000x700 with 2 Axes>"
            ],
            "image/png": "[encoded data removed]"
          },
          "metadata": {}
        }
      ]
    },
    {
      "cell_type": "code",
      "source": [
        "model = keras.Sequential([keras.layers.Dense(100, input_shape=(784,), activation=\"relu\"),\n",
        "                          keras.layers.Dense(10, activation='sigmoid')\n",
        "                          ])\n",
        "model.compile(optimizer='adam', loss='sparse_categorical_crossentropy', metrics=['accuracy'])\n",
        "model.fit(x_train_flattened, y_train, epochs=5)"
      ],
      "metadata": {
        "id": "eNP7iv4PFnco",
        "outputId": "94a2802e-1d81-4c7d-9214-4303071f12d9",
        "colab": {
          "base_uri": "https://localhost:8080/"
        }
      },
      "execution_count": 65,
      "outputs": [
        {
          "output_type": "stream",
          "name": "stderr",
          "text": [
            "/usr/local/lib/python3.10/dist-packages/keras/src/layers/core/dense.py:87: UserWarning: Do not pass an `input_shape`/`input_dim` argument to a layer. When using Sequential models, prefer using an `Input(shape)` object as the first layer in the model instead.\n",
            "  super().__init__(activity_regularizer=activity_regularizer, **kwargs)\n"
          ]
        },
        {
          "output_type": "stream",
          "name": "stdout",
          "text": [
            "Epoch 1/5\n",
            "\u001b[1m1875/1875\u001b[0m \u001b[32m━━━━━━━━━━━━━━━━━━━━\u001b[0m\u001b[37m\u001b[0m \u001b[1m7s\u001b[0m 3ms/step - accuracy: 0.8757 - loss: 0.4435\n",
            "Epoch 2/5\n",
            "\u001b[1m1875/1875\u001b[0m \u001b[32m━━━━━━━━━━━━━━━━━━━━\u001b[0m\u001b[37m\u001b[0m \u001b[1m11s\u001b[0m 3ms/step - accuracy: 0.9637 - loss: 0.1257\n",
            "Epoch 3/5\n",
            "\u001b[1m1875/1875\u001b[0m \u001b[32m━━━━━━━━━━━━━━━━━━━━\u001b[0m\u001b[37m\u001b[0m \u001b[1m6s\u001b[0m 3ms/step - accuracy: 0.9749 - loss: 0.0857\n",
            "Epoch 4/5\n",
            "\u001b[1m1875/1875\u001b[0m \u001b[32m━━━━━━━━━━━━━━━━━━━━\u001b[0m\u001b[37m\u001b[0m \u001b[1m7s\u001b[0m 4ms/step - accuracy: 0.9806 - loss: 0.0637\n",
            "Epoch 5/5\n",
            "\u001b[1m1875/1875\u001b[0m \u001b[32m━━━━━━━━━━━━━━━━━━━━\u001b[0m\u001b[37m\u001b[0m \u001b[1m5s\u001b[0m 3ms/step - accuracy: 0.9852 - loss: 0.0486\n"
          ]
        },
        {
          "output_type": "execute_result",
          "data": {
            "text/plain": [
              "<keras.src.callbacks.history.History at 0x79d94cd12da0>"
            ]
          },
          "metadata": {},
          "execution_count": 65
        }
      ]
    },
    {
      "cell_type": "code",
      "source": [
        "y_predicted = model.predict(x_test_flattened)"
      ],
      "metadata": {
        "id": "H7p1Gn0aGWCV",
        "outputId": "1c683cdb-23f9-4236-9aaf-366de1892bfa",
        "colab": {
          "base_uri": "https://localhost:8080/"
        }
      },
      "execution_count": 66,
      "outputs": [
        {
          "output_type": "stream",
          "name": "stdout",
          "text": [
            "\u001b[1m313/313\u001b[0m \u001b[32m━━━━━━━━━━━━━━━━━━━━\u001b[0m\u001b[37m\u001b[0m \u001b[1m1s\u001b[0m 3ms/step\n"
          ]
        }
      ]
    },
    {
      "cell_type": "code",
      "source": [
        "y_predicted_labels = [np.argmax(i) for i in y_predicted]"
      ],
      "metadata": {
        "id": "NRXpkiSdGtsf"
      },
      "execution_count": 67,
      "outputs": []
    },
    {
      "cell_type": "code",
      "source": [
        "cm = tf.math.confusion_matrix(labels=y_test, predictions=y_predicted_labels)\n",
        "print(cm)\n",
        "plt.figure(figsize = (10,7))\n",
        "sns.heatmap(cm, annot=True, fmt='d')\n",
        "plt.xlabel(\"Predicted\")\n",
        "plt.ylabel(\"Truth\")"
      ],
      "metadata": {
        "id": "2Eg4OwvzGweC",
        "outputId": "e16a53d2-7f36-4f87-b396-4b391aa59377",
        "colab": {
          "base_uri": "https://localhost:8080/",
          "height": 827
        }
      },
      "execution_count": 68,
      "outputs": [
        {
          "output_type": "stream",
          "name": "stdout",
          "text": [
            "tf.Tensor(\n",
            "[[ 971    0    1    1    2    2    0    1    2    0]\n",
            " [   0 1122    4    1    0    0    1    2    5    0]\n",
            " [   2    0 1011    5    3    0    1    4    6    0]\n",
            " [   0    0    3  974    1   22    0    5    1    4]\n",
            " [   0    0    4    0  963    0    4    2    1    8]\n",
            " [   2    1    0    3    0  881    3    0    2    0]\n",
            " [   6    3    1    1    4    6  935    0    2    0]\n",
            " [   2    1    7    4    1    0    0 1006    3    4]\n",
            " [   3    1    3   10    5    8    1    4  935    4]\n",
            " [   3    5    1    5   13   11    0    7    3  961]], shape=(10, 10), dtype=int32)\n"
          ]
        },
        {
          "output_type": "execute_result",
          "data": {
            "text/plain": [
              "Text(95.72222222222221, 0.5, 'Truth')"
            ]
          },
          "metadata": {},
          "execution_count": 68
        },
        {
          "output_type": "display_data",
          "data": {
            "text/plain": [
              "<Figure size 1000x700 with 2 Axes>"
            ],
            "image/png": "[encoded data removed]"
          },
          "metadata": {}
        }
      ]
    },
    {
      "cell_type": "code",
      "source": [
        "model = keras.Sequential([\n",
        "                          keras.layers.Flatten(input_shape=(28, 28)),\n",
        "                          keras.layers.Dense(100, activation=\"relu\"),\n",
        "                          keras.layers.Dense(10, activation='sigmoid')\n",
        "                          ])\n",
        "model.compile(optimizer='adam', loss='sparse_categorical_crossentropy', metrics=['accuracy'])\n",
        "model.fit(x_train, y_train, epochs=10)"
      ],
      "metadata": {
        "id": "WcT-PYWiG0pS",
        "outputId": "14bceec0-77cc-478e-8d96-c33d9de07636",
        "colab": {
          "base_uri": "https://localhost:8080/"
        }
      },
      "execution_count": 71,
      "outputs": [
        {
          "output_type": "stream",
          "name": "stdout",
          "text": [
            "Epoch 1/10\n",
            "\u001b[1m1875/1875\u001b[0m \u001b[32m━━━━━━━━━━━━━━━━━━━━\u001b[0m\u001b[37m\u001b[0m \u001b[1m8s\u001b[0m 3ms/step - accuracy: 0.8733 - loss: 0.4576\n",
            "Epoch 2/10\n",
            "\u001b[1m1875/1875\u001b[0m \u001b[32m━━━━━━━━━━━━━━━━━━━━\u001b[0m\u001b[37m\u001b[0m \u001b[1m8s\u001b[0m 4ms/step - accuracy: 0.9611 - loss: 0.1319\n",
            "Epoch 3/10\n",
            "\u001b[1m1875/1875\u001b[0m \u001b[32m━━━━━━━━━━━━━━━━━━━━\u001b[0m\u001b[37m\u001b[0m \u001b[1m7s\u001b[0m 3ms/step - accuracy: 0.9724 - loss: 0.0922\n",
            "Epoch 4/10\n",
            "\u001b[1m1875/1875\u001b[0m \u001b[32m━━━━━━━━━━━━━━━━━━━━\u001b[0m\u001b[37m\u001b[0m \u001b[1m6s\u001b[0m 3ms/step - accuracy: 0.9804 - loss: 0.0650\n",
            "Epoch 5/10\n",
            "\u001b[1m1875/1875\u001b[0m \u001b[32m━━━━━━━━━━━━━━━━━━━━\u001b[0m\u001b[37m\u001b[0m \u001b[1m9s\u001b[0m 3ms/step - accuracy: 0.9864 - loss: 0.0462\n",
            "Epoch 6/10\n",
            "\u001b[1m1875/1875\u001b[0m \u001b[32m━━━━━━━━━━━━━━━━━━━━\u001b[0m\u001b[37m\u001b[0m \u001b[1m7s\u001b[0m 4ms/step - accuracy: 0.9879 - loss: 0.0394\n",
            "Epoch 7/10\n",
            "\u001b[1m1875/1875\u001b[0m \u001b[32m━━━━━━━━━━━━━━━━━━━━\u001b[0m\u001b[37m\u001b[0m \u001b[1m5s\u001b[0m 3ms/step - accuracy: 0.9908 - loss: 0.0309\n",
            "Epoch 8/10\n",
            "\u001b[1m1875/1875\u001b[0m \u001b[32m━━━━━━━━━━━━━━━━━━━━\u001b[0m\u001b[37m\u001b[0m \u001b[1m10s\u001b[0m 3ms/step - accuracy: 0.9922 - loss: 0.0256\n",
            "Epoch 9/10\n",
            "\u001b[1m1875/1875\u001b[0m \u001b[32m━━━━━━━━━━━━━━━━━━━━\u001b[0m\u001b[37m\u001b[0m \u001b[1m11s\u001b[0m 3ms/step - accuracy: 0.9937 - loss: 0.0203\n",
            "Epoch 10/10\n",
            "\u001b[1m1875/1875\u001b[0m \u001b[32m━━━━━━━━━━━━━━━━━━━━\u001b[0m\u001b[37m\u001b[0m \u001b[1m10s\u001b[0m 4ms/step - accuracy: 0.9950 - loss: 0.0174\n"
          ]
        },
        {
          "output_type": "execute_result",
          "data": {
            "text/plain": [
              "<keras.src.callbacks.history.History at 0x79d9486e2680>"
            ]
          },
          "metadata": {},
          "execution_count": 71
        }
      ]
    },
    {
      "cell_type": "code",
      "source": [],
      "metadata": {
        "id": "jVpJtUz0Hj7D"
      },
      "execution_count": null,
      "outputs": []
    }
  ]
}